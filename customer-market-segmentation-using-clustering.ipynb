{
 "cells": [
  {
   "cell_type": "code",
   "execution_count": 1,
   "id": "dc501d0d",
   "metadata": {
    "_cell_guid": "b1076dfc-b9ad-4769-8c92-a6c4dae69d19",
    "_uuid": "8f2839f25d086af736a60e9eeb907d3b93b6e0e5",
    "execution": {
     "iopub.execute_input": "2022-11-01T16:45:47.598057Z",
     "iopub.status.busy": "2022-11-01T16:45:47.597615Z",
     "iopub.status.idle": "2022-11-01T16:45:48.889118Z",
     "shell.execute_reply": "2022-11-01T16:45:48.888298Z"
    },
    "papermill": {
     "duration": 1.306214,
     "end_time": "2022-11-01T16:45:48.891913",
     "exception": false,
     "start_time": "2022-11-01T16:45:47.585699",
     "status": "completed"
    },
    "tags": []
   },
   "outputs": [
    {
     "name": "stdout",
     "output_type": "stream",
     "text": [
      "/kaggle/input/ccdata/CC GENERAL.csv\n"
     ]
    }
   ],
   "source": [
    "# This Python 3 environment comes with many helpful analytics libraries installed\n",
    "# It is defined by the kaggle/python Docker image: https://github.com/kaggle/docker-python\n",
    "# For example, here's several helpful packages to load\n",
    "\n",
    "import pandas as pd\n",
    "import numpy as np\n",
    "import seaborn as sns\n",
    "import matplotlib.pyplot as plt\n",
    "# data scaling\n",
    "from sklearn.model_selection import ParameterGrid\n",
    "from sklearn.preprocessing import StandardScaler, normalize\n",
    "\n",
    "from sklearn.cluster import KMeans, DBSCAN, Birch, MeanShift, AffinityPropagation\n",
    "from sklearn.neighbors import NearestNeighbors\n",
    "\n",
    "from sklearn.decomposition import PCA\n",
    "\n",
    "\n",
    "# Input data files are available in the read-only \"../input/\" directory\n",
    "# For example, running this (by clicking run or pressing Shift+Enter) will list all files under the input directory\n",
    "\n",
    "import os\n",
    "for dirname, _, filenames in os.walk('/kaggle/input'):\n",
    "    for filename in filenames:\n",
    "        print(os.path.join(dirname, filename))\n",
    "\n",
    "# You can write up to 20GB to the current directory (/kaggle/working/) that gets preserved as output when you create a version using \"Save & Run All\" \n",
    "# You can also write temporary files to /kaggle/temp/, but they won't be saved outside of the current session"
   ]
  },
  {
   "cell_type": "code",
   "execution_count": 2,
   "id": "0ef08f07",
   "metadata": {
    "execution": {
     "iopub.execute_input": "2022-11-01T16:45:48.911803Z",
     "iopub.status.busy": "2022-11-01T16:45:48.911204Z",
     "iopub.status.idle": "2022-11-01T16:45:48.975719Z",
     "shell.execute_reply": "2022-11-01T16:45:48.974218Z"
    },
    "papermill": {
     "duration": 0.077724,
     "end_time": "2022-11-01T16:45:48.978747",
     "exception": false,
     "start_time": "2022-11-01T16:45:48.901023",
     "status": "completed"
    },
    "tags": []
   },
   "outputs": [],
   "source": [
    "creditcard_df =pd.read_csv(\"../input/ccdata/CC GENERAL.csv\")"
   ]
  },
  {
   "cell_type": "code",
   "execution_count": 3,
   "id": "b0b87c1d",
   "metadata": {
    "execution": {
     "iopub.execute_input": "2022-11-01T16:45:48.998593Z",
     "iopub.status.busy": "2022-11-01T16:45:48.998199Z",
     "iopub.status.idle": "2022-11-01T16:45:49.037737Z",
     "shell.execute_reply": "2022-11-01T16:45:49.036726Z"
    },
    "papermill": {
     "duration": 0.052474,
     "end_time": "2022-11-01T16:45:49.040445",
     "exception": false,
     "start_time": "2022-11-01T16:45:48.987971",
     "status": "completed"
    },
    "tags": []
   },
   "outputs": [
    {
     "data": {
      "text/html": [
       "<div>\n",
       "<style scoped>\n",
       "    .dataframe tbody tr th:only-of-type {\n",
       "        vertical-align: middle;\n",
       "    }\n",
       "\n",
       "    .dataframe tbody tr th {\n",
       "        vertical-align: top;\n",
       "    }\n",
       "\n",
       "    .dataframe thead th {\n",
       "        text-align: right;\n",
       "    }\n",
       "</style>\n",
       "<table border=\"1\" class=\"dataframe\">\n",
       "  <thead>\n",
       "    <tr style=\"text-align: right;\">\n",
       "      <th></th>\n",
       "      <th>CUST_ID</th>\n",
       "      <th>BALANCE</th>\n",
       "      <th>BALANCE_FREQUENCY</th>\n",
       "      <th>PURCHASES</th>\n",
       "      <th>ONEOFF_PURCHASES</th>\n",
       "      <th>INSTALLMENTS_PURCHASES</th>\n",
       "      <th>CASH_ADVANCE</th>\n",
       "      <th>PURCHASES_FREQUENCY</th>\n",
       "      <th>ONEOFF_PURCHASES_FREQUENCY</th>\n",
       "      <th>PURCHASES_INSTALLMENTS_FREQUENCY</th>\n",
       "      <th>CASH_ADVANCE_FREQUENCY</th>\n",
       "      <th>CASH_ADVANCE_TRX</th>\n",
       "      <th>PURCHASES_TRX</th>\n",
       "      <th>CREDIT_LIMIT</th>\n",
       "      <th>PAYMENTS</th>\n",
       "      <th>MINIMUM_PAYMENTS</th>\n",
       "      <th>PRC_FULL_PAYMENT</th>\n",
       "      <th>TENURE</th>\n",
       "    </tr>\n",
       "  </thead>\n",
       "  <tbody>\n",
       "    <tr>\n",
       "      <th>0</th>\n",
       "      <td>C10001</td>\n",
       "      <td>40.900749</td>\n",
       "      <td>0.818182</td>\n",
       "      <td>95.40</td>\n",
       "      <td>0.00</td>\n",
       "      <td>95.40</td>\n",
       "      <td>0.000000</td>\n",
       "      <td>0.166667</td>\n",
       "      <td>0.000000</td>\n",
       "      <td>0.083333</td>\n",
       "      <td>0.000000</td>\n",
       "      <td>0</td>\n",
       "      <td>2</td>\n",
       "      <td>1000.0</td>\n",
       "      <td>201.802084</td>\n",
       "      <td>139.509787</td>\n",
       "      <td>0.000000</td>\n",
       "      <td>12</td>\n",
       "    </tr>\n",
       "    <tr>\n",
       "      <th>1</th>\n",
       "      <td>C10002</td>\n",
       "      <td>3202.467416</td>\n",
       "      <td>0.909091</td>\n",
       "      <td>0.00</td>\n",
       "      <td>0.00</td>\n",
       "      <td>0.00</td>\n",
       "      <td>6442.945483</td>\n",
       "      <td>0.000000</td>\n",
       "      <td>0.000000</td>\n",
       "      <td>0.000000</td>\n",
       "      <td>0.250000</td>\n",
       "      <td>4</td>\n",
       "      <td>0</td>\n",
       "      <td>7000.0</td>\n",
       "      <td>4103.032597</td>\n",
       "      <td>1072.340217</td>\n",
       "      <td>0.222222</td>\n",
       "      <td>12</td>\n",
       "    </tr>\n",
       "    <tr>\n",
       "      <th>2</th>\n",
       "      <td>C10003</td>\n",
       "      <td>2495.148862</td>\n",
       "      <td>1.000000</td>\n",
       "      <td>773.17</td>\n",
       "      <td>773.17</td>\n",
       "      <td>0.00</td>\n",
       "      <td>0.000000</td>\n",
       "      <td>1.000000</td>\n",
       "      <td>1.000000</td>\n",
       "      <td>0.000000</td>\n",
       "      <td>0.000000</td>\n",
       "      <td>0</td>\n",
       "      <td>12</td>\n",
       "      <td>7500.0</td>\n",
       "      <td>622.066742</td>\n",
       "      <td>627.284787</td>\n",
       "      <td>0.000000</td>\n",
       "      <td>12</td>\n",
       "    </tr>\n",
       "    <tr>\n",
       "      <th>3</th>\n",
       "      <td>C10004</td>\n",
       "      <td>1666.670542</td>\n",
       "      <td>0.636364</td>\n",
       "      <td>1499.00</td>\n",
       "      <td>1499.00</td>\n",
       "      <td>0.00</td>\n",
       "      <td>205.788017</td>\n",
       "      <td>0.083333</td>\n",
       "      <td>0.083333</td>\n",
       "      <td>0.000000</td>\n",
       "      <td>0.083333</td>\n",
       "      <td>1</td>\n",
       "      <td>1</td>\n",
       "      <td>7500.0</td>\n",
       "      <td>0.000000</td>\n",
       "      <td>NaN</td>\n",
       "      <td>0.000000</td>\n",
       "      <td>12</td>\n",
       "    </tr>\n",
       "    <tr>\n",
       "      <th>4</th>\n",
       "      <td>C10005</td>\n",
       "      <td>817.714335</td>\n",
       "      <td>1.000000</td>\n",
       "      <td>16.00</td>\n",
       "      <td>16.00</td>\n",
       "      <td>0.00</td>\n",
       "      <td>0.000000</td>\n",
       "      <td>0.083333</td>\n",
       "      <td>0.083333</td>\n",
       "      <td>0.000000</td>\n",
       "      <td>0.000000</td>\n",
       "      <td>0</td>\n",
       "      <td>1</td>\n",
       "      <td>1200.0</td>\n",
       "      <td>678.334763</td>\n",
       "      <td>244.791237</td>\n",
       "      <td>0.000000</td>\n",
       "      <td>12</td>\n",
       "    </tr>\n",
       "    <tr>\n",
       "      <th>...</th>\n",
       "      <td>...</td>\n",
       "      <td>...</td>\n",
       "      <td>...</td>\n",
       "      <td>...</td>\n",
       "      <td>...</td>\n",
       "      <td>...</td>\n",
       "      <td>...</td>\n",
       "      <td>...</td>\n",
       "      <td>...</td>\n",
       "      <td>...</td>\n",
       "      <td>...</td>\n",
       "      <td>...</td>\n",
       "      <td>...</td>\n",
       "      <td>...</td>\n",
       "      <td>...</td>\n",
       "      <td>...</td>\n",
       "      <td>...</td>\n",
       "      <td>...</td>\n",
       "    </tr>\n",
       "    <tr>\n",
       "      <th>8945</th>\n",
       "      <td>C19186</td>\n",
       "      <td>28.493517</td>\n",
       "      <td>1.000000</td>\n",
       "      <td>291.12</td>\n",
       "      <td>0.00</td>\n",
       "      <td>291.12</td>\n",
       "      <td>0.000000</td>\n",
       "      <td>1.000000</td>\n",
       "      <td>0.000000</td>\n",
       "      <td>0.833333</td>\n",
       "      <td>0.000000</td>\n",
       "      <td>0</td>\n",
       "      <td>6</td>\n",
       "      <td>1000.0</td>\n",
       "      <td>325.594462</td>\n",
       "      <td>48.886365</td>\n",
       "      <td>0.500000</td>\n",
       "      <td>6</td>\n",
       "    </tr>\n",
       "    <tr>\n",
       "      <th>8946</th>\n",
       "      <td>C19187</td>\n",
       "      <td>19.183215</td>\n",
       "      <td>1.000000</td>\n",
       "      <td>300.00</td>\n",
       "      <td>0.00</td>\n",
       "      <td>300.00</td>\n",
       "      <td>0.000000</td>\n",
       "      <td>1.000000</td>\n",
       "      <td>0.000000</td>\n",
       "      <td>0.833333</td>\n",
       "      <td>0.000000</td>\n",
       "      <td>0</td>\n",
       "      <td>6</td>\n",
       "      <td>1000.0</td>\n",
       "      <td>275.861322</td>\n",
       "      <td>NaN</td>\n",
       "      <td>0.000000</td>\n",
       "      <td>6</td>\n",
       "    </tr>\n",
       "    <tr>\n",
       "      <th>8947</th>\n",
       "      <td>C19188</td>\n",
       "      <td>23.398673</td>\n",
       "      <td>0.833333</td>\n",
       "      <td>144.40</td>\n",
       "      <td>0.00</td>\n",
       "      <td>144.40</td>\n",
       "      <td>0.000000</td>\n",
       "      <td>0.833333</td>\n",
       "      <td>0.000000</td>\n",
       "      <td>0.666667</td>\n",
       "      <td>0.000000</td>\n",
       "      <td>0</td>\n",
       "      <td>5</td>\n",
       "      <td>1000.0</td>\n",
       "      <td>81.270775</td>\n",
       "      <td>82.418369</td>\n",
       "      <td>0.250000</td>\n",
       "      <td>6</td>\n",
       "    </tr>\n",
       "    <tr>\n",
       "      <th>8948</th>\n",
       "      <td>C19189</td>\n",
       "      <td>13.457564</td>\n",
       "      <td>0.833333</td>\n",
       "      <td>0.00</td>\n",
       "      <td>0.00</td>\n",
       "      <td>0.00</td>\n",
       "      <td>36.558778</td>\n",
       "      <td>0.000000</td>\n",
       "      <td>0.000000</td>\n",
       "      <td>0.000000</td>\n",
       "      <td>0.166667</td>\n",
       "      <td>2</td>\n",
       "      <td>0</td>\n",
       "      <td>500.0</td>\n",
       "      <td>52.549959</td>\n",
       "      <td>55.755628</td>\n",
       "      <td>0.250000</td>\n",
       "      <td>6</td>\n",
       "    </tr>\n",
       "    <tr>\n",
       "      <th>8949</th>\n",
       "      <td>C19190</td>\n",
       "      <td>372.708075</td>\n",
       "      <td>0.666667</td>\n",
       "      <td>1093.25</td>\n",
       "      <td>1093.25</td>\n",
       "      <td>0.00</td>\n",
       "      <td>127.040008</td>\n",
       "      <td>0.666667</td>\n",
       "      <td>0.666667</td>\n",
       "      <td>0.000000</td>\n",
       "      <td>0.333333</td>\n",
       "      <td>2</td>\n",
       "      <td>23</td>\n",
       "      <td>1200.0</td>\n",
       "      <td>63.165404</td>\n",
       "      <td>88.288956</td>\n",
       "      <td>0.000000</td>\n",
       "      <td>6</td>\n",
       "    </tr>\n",
       "  </tbody>\n",
       "</table>\n",
       "<p>8950 rows × 18 columns</p>\n",
       "</div>"
      ],
      "text/plain": [
       "     CUST_ID      BALANCE  BALANCE_FREQUENCY  PURCHASES  ONEOFF_PURCHASES  \\\n",
       "0     C10001    40.900749           0.818182      95.40              0.00   \n",
       "1     C10002  3202.467416           0.909091       0.00              0.00   \n",
       "2     C10003  2495.148862           1.000000     773.17            773.17   \n",
       "3     C10004  1666.670542           0.636364    1499.00           1499.00   \n",
       "4     C10005   817.714335           1.000000      16.00             16.00   \n",
       "...      ...          ...                ...        ...               ...   \n",
       "8945  C19186    28.493517           1.000000     291.12              0.00   \n",
       "8946  C19187    19.183215           1.000000     300.00              0.00   \n",
       "8947  C19188    23.398673           0.833333     144.40              0.00   \n",
       "8948  C19189    13.457564           0.833333       0.00              0.00   \n",
       "8949  C19190   372.708075           0.666667    1093.25           1093.25   \n",
       "\n",
       "      INSTALLMENTS_PURCHASES  CASH_ADVANCE  PURCHASES_FREQUENCY  \\\n",
       "0                      95.40      0.000000             0.166667   \n",
       "1                       0.00   6442.945483             0.000000   \n",
       "2                       0.00      0.000000             1.000000   \n",
       "3                       0.00    205.788017             0.083333   \n",
       "4                       0.00      0.000000             0.083333   \n",
       "...                      ...           ...                  ...   \n",
       "8945                  291.12      0.000000             1.000000   \n",
       "8946                  300.00      0.000000             1.000000   \n",
       "8947                  144.40      0.000000             0.833333   \n",
       "8948                    0.00     36.558778             0.000000   \n",
       "8949                    0.00    127.040008             0.666667   \n",
       "\n",
       "      ONEOFF_PURCHASES_FREQUENCY  PURCHASES_INSTALLMENTS_FREQUENCY  \\\n",
       "0                       0.000000                          0.083333   \n",
       "1                       0.000000                          0.000000   \n",
       "2                       1.000000                          0.000000   \n",
       "3                       0.083333                          0.000000   \n",
       "4                       0.083333                          0.000000   \n",
       "...                          ...                               ...   \n",
       "8945                    0.000000                          0.833333   \n",
       "8946                    0.000000                          0.833333   \n",
       "8947                    0.000000                          0.666667   \n",
       "8948                    0.000000                          0.000000   \n",
       "8949                    0.666667                          0.000000   \n",
       "\n",
       "      CASH_ADVANCE_FREQUENCY  CASH_ADVANCE_TRX  PURCHASES_TRX  CREDIT_LIMIT  \\\n",
       "0                   0.000000                 0              2        1000.0   \n",
       "1                   0.250000                 4              0        7000.0   \n",
       "2                   0.000000                 0             12        7500.0   \n",
       "3                   0.083333                 1              1        7500.0   \n",
       "4                   0.000000                 0              1        1200.0   \n",
       "...                      ...               ...            ...           ...   \n",
       "8945                0.000000                 0              6        1000.0   \n",
       "8946                0.000000                 0              6        1000.0   \n",
       "8947                0.000000                 0              5        1000.0   \n",
       "8948                0.166667                 2              0         500.0   \n",
       "8949                0.333333                 2             23        1200.0   \n",
       "\n",
       "         PAYMENTS  MINIMUM_PAYMENTS  PRC_FULL_PAYMENT  TENURE  \n",
       "0      201.802084        139.509787          0.000000      12  \n",
       "1     4103.032597       1072.340217          0.222222      12  \n",
       "2      622.066742        627.284787          0.000000      12  \n",
       "3        0.000000               NaN          0.000000      12  \n",
       "4      678.334763        244.791237          0.000000      12  \n",
       "...           ...               ...               ...     ...  \n",
       "8945   325.594462         48.886365          0.500000       6  \n",
       "8946   275.861322               NaN          0.000000       6  \n",
       "8947    81.270775         82.418369          0.250000       6  \n",
       "8948    52.549959         55.755628          0.250000       6  \n",
       "8949    63.165404         88.288956          0.000000       6  \n",
       "\n",
       "[8950 rows x 18 columns]"
      ]
     },
     "execution_count": 3,
     "metadata": {},
     "output_type": "execute_result"
    }
   ],
   "source": [
    "creditcard_df"
   ]
  },
  {
   "cell_type": "markdown",
   "id": "0685f177",
   "metadata": {
    "papermill": {
     "duration": 0.00879,
     "end_time": "2022-11-01T16:45:49.058588",
     "exception": false,
     "start_time": "2022-11-01T16:45:49.049798",
     "status": "completed"
    },
    "tags": []
   },
   "source": [
    "# EDA"
   ]
  },
  {
   "cell_type": "code",
   "execution_count": 4,
   "id": "bfc74a3a",
   "metadata": {
    "execution": {
     "iopub.execute_input": "2022-11-01T16:45:49.080550Z",
     "iopub.status.busy": "2022-11-01T16:45:49.079796Z",
     "iopub.status.idle": "2022-11-01T16:45:49.102580Z",
     "shell.execute_reply": "2022-11-01T16:45:49.101041Z"
    },
    "papermill": {
     "duration": 0.035684,
     "end_time": "2022-11-01T16:45:49.105077",
     "exception": false,
     "start_time": "2022-11-01T16:45:49.069393",
     "status": "completed"
    },
    "tags": []
   },
   "outputs": [
    {
     "name": "stdout",
     "output_type": "stream",
     "text": [
      "<class 'pandas.core.frame.DataFrame'>\n",
      "RangeIndex: 8950 entries, 0 to 8949\n",
      "Data columns (total 18 columns):\n",
      " #   Column                            Non-Null Count  Dtype  \n",
      "---  ------                            --------------  -----  \n",
      " 0   CUST_ID                           8950 non-null   object \n",
      " 1   BALANCE                           8950 non-null   float64\n",
      " 2   BALANCE_FREQUENCY                 8950 non-null   float64\n",
      " 3   PURCHASES                         8950 non-null   float64\n",
      " 4   ONEOFF_PURCHASES                  8950 non-null   float64\n",
      " 5   INSTALLMENTS_PURCHASES            8950 non-null   float64\n",
      " 6   CASH_ADVANCE                      8950 non-null   float64\n",
      " 7   PURCHASES_FREQUENCY               8950 non-null   float64\n",
      " 8   ONEOFF_PURCHASES_FREQUENCY        8950 non-null   float64\n",
      " 9   PURCHASES_INSTALLMENTS_FREQUENCY  8950 non-null   float64\n",
      " 10  CASH_ADVANCE_FREQUENCY            8950 non-null   float64\n",
      " 11  CASH_ADVANCE_TRX                  8950 non-null   int64  \n",
      " 12  PURCHASES_TRX                     8950 non-null   int64  \n",
      " 13  CREDIT_LIMIT                      8949 non-null   float64\n",
      " 14  PAYMENTS                          8950 non-null   float64\n",
      " 15  MINIMUM_PAYMENTS                  8637 non-null   float64\n",
      " 16  PRC_FULL_PAYMENT                  8950 non-null   float64\n",
      " 17  TENURE                            8950 non-null   int64  \n",
      "dtypes: float64(14), int64(3), object(1)\n",
      "memory usage: 1.2+ MB\n"
     ]
    }
   ],
   "source": [
    "creditcard_df.info()"
   ]
  },
  {
   "cell_type": "code",
   "execution_count": 5,
   "id": "dbc042b1",
   "metadata": {
    "execution": {
     "iopub.execute_input": "2022-11-01T16:45:49.125810Z",
     "iopub.status.busy": "2022-11-01T16:45:49.125089Z",
     "iopub.status.idle": "2022-11-01T16:45:49.194107Z",
     "shell.execute_reply": "2022-11-01T16:45:49.192880Z"
    },
    "papermill": {
     "duration": 0.082033,
     "end_time": "2022-11-01T16:45:49.196475",
     "exception": false,
     "start_time": "2022-11-01T16:45:49.114442",
     "status": "completed"
    },
    "tags": []
   },
   "outputs": [
    {
     "data": {
      "text/html": [
       "<div>\n",
       "<style scoped>\n",
       "    .dataframe tbody tr th:only-of-type {\n",
       "        vertical-align: middle;\n",
       "    }\n",
       "\n",
       "    .dataframe tbody tr th {\n",
       "        vertical-align: top;\n",
       "    }\n",
       "\n",
       "    .dataframe thead th {\n",
       "        text-align: right;\n",
       "    }\n",
       "</style>\n",
       "<table border=\"1\" class=\"dataframe\">\n",
       "  <thead>\n",
       "    <tr style=\"text-align: right;\">\n",
       "      <th></th>\n",
       "      <th>BALANCE</th>\n",
       "      <th>BALANCE_FREQUENCY</th>\n",
       "      <th>PURCHASES</th>\n",
       "      <th>ONEOFF_PURCHASES</th>\n",
       "      <th>INSTALLMENTS_PURCHASES</th>\n",
       "      <th>CASH_ADVANCE</th>\n",
       "      <th>PURCHASES_FREQUENCY</th>\n",
       "      <th>ONEOFF_PURCHASES_FREQUENCY</th>\n",
       "      <th>PURCHASES_INSTALLMENTS_FREQUENCY</th>\n",
       "      <th>CASH_ADVANCE_FREQUENCY</th>\n",
       "      <th>CASH_ADVANCE_TRX</th>\n",
       "      <th>PURCHASES_TRX</th>\n",
       "      <th>CREDIT_LIMIT</th>\n",
       "      <th>PAYMENTS</th>\n",
       "      <th>MINIMUM_PAYMENTS</th>\n",
       "      <th>PRC_FULL_PAYMENT</th>\n",
       "      <th>TENURE</th>\n",
       "    </tr>\n",
       "  </thead>\n",
       "  <tbody>\n",
       "    <tr>\n",
       "      <th>count</th>\n",
       "      <td>8950.000000</td>\n",
       "      <td>8950.000000</td>\n",
       "      <td>8950.000000</td>\n",
       "      <td>8950.000000</td>\n",
       "      <td>8950.000000</td>\n",
       "      <td>8950.000000</td>\n",
       "      <td>8950.000000</td>\n",
       "      <td>8950.000000</td>\n",
       "      <td>8950.000000</td>\n",
       "      <td>8950.000000</td>\n",
       "      <td>8950.000000</td>\n",
       "      <td>8950.000000</td>\n",
       "      <td>8949.000000</td>\n",
       "      <td>8950.000000</td>\n",
       "      <td>8637.000000</td>\n",
       "      <td>8950.000000</td>\n",
       "      <td>8950.000000</td>\n",
       "    </tr>\n",
       "    <tr>\n",
       "      <th>mean</th>\n",
       "      <td>1564.474828</td>\n",
       "      <td>0.877271</td>\n",
       "      <td>1003.204834</td>\n",
       "      <td>592.437371</td>\n",
       "      <td>411.067645</td>\n",
       "      <td>978.871112</td>\n",
       "      <td>0.490351</td>\n",
       "      <td>0.202458</td>\n",
       "      <td>0.364437</td>\n",
       "      <td>0.135144</td>\n",
       "      <td>3.248827</td>\n",
       "      <td>14.709832</td>\n",
       "      <td>4494.449450</td>\n",
       "      <td>1733.143852</td>\n",
       "      <td>864.206542</td>\n",
       "      <td>0.153715</td>\n",
       "      <td>11.517318</td>\n",
       "    </tr>\n",
       "    <tr>\n",
       "      <th>std</th>\n",
       "      <td>2081.531879</td>\n",
       "      <td>0.236904</td>\n",
       "      <td>2136.634782</td>\n",
       "      <td>1659.887917</td>\n",
       "      <td>904.338115</td>\n",
       "      <td>2097.163877</td>\n",
       "      <td>0.401371</td>\n",
       "      <td>0.298336</td>\n",
       "      <td>0.397448</td>\n",
       "      <td>0.200121</td>\n",
       "      <td>6.824647</td>\n",
       "      <td>24.857649</td>\n",
       "      <td>3638.815725</td>\n",
       "      <td>2895.063757</td>\n",
       "      <td>2372.446607</td>\n",
       "      <td>0.292499</td>\n",
       "      <td>1.338331</td>\n",
       "    </tr>\n",
       "    <tr>\n",
       "      <th>min</th>\n",
       "      <td>0.000000</td>\n",
       "      <td>0.000000</td>\n",
       "      <td>0.000000</td>\n",
       "      <td>0.000000</td>\n",
       "      <td>0.000000</td>\n",
       "      <td>0.000000</td>\n",
       "      <td>0.000000</td>\n",
       "      <td>0.000000</td>\n",
       "      <td>0.000000</td>\n",
       "      <td>0.000000</td>\n",
       "      <td>0.000000</td>\n",
       "      <td>0.000000</td>\n",
       "      <td>50.000000</td>\n",
       "      <td>0.000000</td>\n",
       "      <td>0.019163</td>\n",
       "      <td>0.000000</td>\n",
       "      <td>6.000000</td>\n",
       "    </tr>\n",
       "    <tr>\n",
       "      <th>25%</th>\n",
       "      <td>128.281915</td>\n",
       "      <td>0.888889</td>\n",
       "      <td>39.635000</td>\n",
       "      <td>0.000000</td>\n",
       "      <td>0.000000</td>\n",
       "      <td>0.000000</td>\n",
       "      <td>0.083333</td>\n",
       "      <td>0.000000</td>\n",
       "      <td>0.000000</td>\n",
       "      <td>0.000000</td>\n",
       "      <td>0.000000</td>\n",
       "      <td>1.000000</td>\n",
       "      <td>1600.000000</td>\n",
       "      <td>383.276166</td>\n",
       "      <td>169.123707</td>\n",
       "      <td>0.000000</td>\n",
       "      <td>12.000000</td>\n",
       "    </tr>\n",
       "    <tr>\n",
       "      <th>50%</th>\n",
       "      <td>873.385231</td>\n",
       "      <td>1.000000</td>\n",
       "      <td>361.280000</td>\n",
       "      <td>38.000000</td>\n",
       "      <td>89.000000</td>\n",
       "      <td>0.000000</td>\n",
       "      <td>0.500000</td>\n",
       "      <td>0.083333</td>\n",
       "      <td>0.166667</td>\n",
       "      <td>0.000000</td>\n",
       "      <td>0.000000</td>\n",
       "      <td>7.000000</td>\n",
       "      <td>3000.000000</td>\n",
       "      <td>856.901546</td>\n",
       "      <td>312.343947</td>\n",
       "      <td>0.000000</td>\n",
       "      <td>12.000000</td>\n",
       "    </tr>\n",
       "    <tr>\n",
       "      <th>75%</th>\n",
       "      <td>2054.140036</td>\n",
       "      <td>1.000000</td>\n",
       "      <td>1110.130000</td>\n",
       "      <td>577.405000</td>\n",
       "      <td>468.637500</td>\n",
       "      <td>1113.821139</td>\n",
       "      <td>0.916667</td>\n",
       "      <td>0.300000</td>\n",
       "      <td>0.750000</td>\n",
       "      <td>0.222222</td>\n",
       "      <td>4.000000</td>\n",
       "      <td>17.000000</td>\n",
       "      <td>6500.000000</td>\n",
       "      <td>1901.134317</td>\n",
       "      <td>825.485459</td>\n",
       "      <td>0.142857</td>\n",
       "      <td>12.000000</td>\n",
       "    </tr>\n",
       "    <tr>\n",
       "      <th>max</th>\n",
       "      <td>19043.138560</td>\n",
       "      <td>1.000000</td>\n",
       "      <td>49039.570000</td>\n",
       "      <td>40761.250000</td>\n",
       "      <td>22500.000000</td>\n",
       "      <td>47137.211760</td>\n",
       "      <td>1.000000</td>\n",
       "      <td>1.000000</td>\n",
       "      <td>1.000000</td>\n",
       "      <td>1.500000</td>\n",
       "      <td>123.000000</td>\n",
       "      <td>358.000000</td>\n",
       "      <td>30000.000000</td>\n",
       "      <td>50721.483360</td>\n",
       "      <td>76406.207520</td>\n",
       "      <td>1.000000</td>\n",
       "      <td>12.000000</td>\n",
       "    </tr>\n",
       "  </tbody>\n",
       "</table>\n",
       "</div>"
      ],
      "text/plain": [
       "            BALANCE  BALANCE_FREQUENCY     PURCHASES  ONEOFF_PURCHASES  \\\n",
       "count   8950.000000        8950.000000   8950.000000       8950.000000   \n",
       "mean    1564.474828           0.877271   1003.204834        592.437371   \n",
       "std     2081.531879           0.236904   2136.634782       1659.887917   \n",
       "min        0.000000           0.000000      0.000000          0.000000   \n",
       "25%      128.281915           0.888889     39.635000          0.000000   \n",
       "50%      873.385231           1.000000    361.280000         38.000000   \n",
       "75%     2054.140036           1.000000   1110.130000        577.405000   \n",
       "max    19043.138560           1.000000  49039.570000      40761.250000   \n",
       "\n",
       "       INSTALLMENTS_PURCHASES  CASH_ADVANCE  PURCHASES_FREQUENCY  \\\n",
       "count             8950.000000   8950.000000          8950.000000   \n",
       "mean               411.067645    978.871112             0.490351   \n",
       "std                904.338115   2097.163877             0.401371   \n",
       "min                  0.000000      0.000000             0.000000   \n",
       "25%                  0.000000      0.000000             0.083333   \n",
       "50%                 89.000000      0.000000             0.500000   \n",
       "75%                468.637500   1113.821139             0.916667   \n",
       "max              22500.000000  47137.211760             1.000000   \n",
       "\n",
       "       ONEOFF_PURCHASES_FREQUENCY  PURCHASES_INSTALLMENTS_FREQUENCY  \\\n",
       "count                 8950.000000                       8950.000000   \n",
       "mean                     0.202458                          0.364437   \n",
       "std                      0.298336                          0.397448   \n",
       "min                      0.000000                          0.000000   \n",
       "25%                      0.000000                          0.000000   \n",
       "50%                      0.083333                          0.166667   \n",
       "75%                      0.300000                          0.750000   \n",
       "max                      1.000000                          1.000000   \n",
       "\n",
       "       CASH_ADVANCE_FREQUENCY  CASH_ADVANCE_TRX  PURCHASES_TRX  CREDIT_LIMIT  \\\n",
       "count             8950.000000       8950.000000    8950.000000   8949.000000   \n",
       "mean                 0.135144          3.248827      14.709832   4494.449450   \n",
       "std                  0.200121          6.824647      24.857649   3638.815725   \n",
       "min                  0.000000          0.000000       0.000000     50.000000   \n",
       "25%                  0.000000          0.000000       1.000000   1600.000000   \n",
       "50%                  0.000000          0.000000       7.000000   3000.000000   \n",
       "75%                  0.222222          4.000000      17.000000   6500.000000   \n",
       "max                  1.500000        123.000000     358.000000  30000.000000   \n",
       "\n",
       "           PAYMENTS  MINIMUM_PAYMENTS  PRC_FULL_PAYMENT       TENURE  \n",
       "count   8950.000000       8637.000000       8950.000000  8950.000000  \n",
       "mean    1733.143852        864.206542          0.153715    11.517318  \n",
       "std     2895.063757       2372.446607          0.292499     1.338331  \n",
       "min        0.000000          0.019163          0.000000     6.000000  \n",
       "25%      383.276166        169.123707          0.000000    12.000000  \n",
       "50%      856.901546        312.343947          0.000000    12.000000  \n",
       "75%     1901.134317        825.485459          0.142857    12.000000  \n",
       "max    50721.483360      76406.207520          1.000000    12.000000  "
      ]
     },
     "execution_count": 5,
     "metadata": {},
     "output_type": "execute_result"
    }
   ],
   "source": [
    "creditcard_df.describe()"
   ]
  },
  {
   "cell_type": "code",
   "execution_count": 6,
   "id": "8fe1b93e",
   "metadata": {
    "execution": {
     "iopub.execute_input": "2022-11-01T16:45:49.217657Z",
     "iopub.status.busy": "2022-11-01T16:45:49.217271Z",
     "iopub.status.idle": "2022-11-01T16:45:49.236815Z",
     "shell.execute_reply": "2022-11-01T16:45:49.235728Z"
    },
    "papermill": {
     "duration": 0.033103,
     "end_time": "2022-11-01T16:45:49.239472",
     "exception": false,
     "start_time": "2022-11-01T16:45:49.206369",
     "status": "completed"
    },
    "tags": []
   },
   "outputs": [
    {
     "data": {
      "text/html": [
       "<div>\n",
       "<style scoped>\n",
       "    .dataframe tbody tr th:only-of-type {\n",
       "        vertical-align: middle;\n",
       "    }\n",
       "\n",
       "    .dataframe tbody tr th {\n",
       "        vertical-align: top;\n",
       "    }\n",
       "\n",
       "    .dataframe thead th {\n",
       "        text-align: right;\n",
       "    }\n",
       "</style>\n",
       "<table border=\"1\" class=\"dataframe\">\n",
       "  <thead>\n",
       "    <tr style=\"text-align: right;\">\n",
       "      <th></th>\n",
       "      <th>CUST_ID</th>\n",
       "      <th>BALANCE</th>\n",
       "      <th>BALANCE_FREQUENCY</th>\n",
       "      <th>PURCHASES</th>\n",
       "      <th>ONEOFF_PURCHASES</th>\n",
       "      <th>INSTALLMENTS_PURCHASES</th>\n",
       "      <th>CASH_ADVANCE</th>\n",
       "      <th>PURCHASES_FREQUENCY</th>\n",
       "      <th>ONEOFF_PURCHASES_FREQUENCY</th>\n",
       "      <th>PURCHASES_INSTALLMENTS_FREQUENCY</th>\n",
       "      <th>CASH_ADVANCE_FREQUENCY</th>\n",
       "      <th>CASH_ADVANCE_TRX</th>\n",
       "      <th>PURCHASES_TRX</th>\n",
       "      <th>CREDIT_LIMIT</th>\n",
       "      <th>PAYMENTS</th>\n",
       "      <th>MINIMUM_PAYMENTS</th>\n",
       "      <th>PRC_FULL_PAYMENT</th>\n",
       "      <th>TENURE</th>\n",
       "    </tr>\n",
       "  </thead>\n",
       "  <tbody>\n",
       "    <tr>\n",
       "      <th>550</th>\n",
       "      <td>C10574</td>\n",
       "      <td>11547.52001</td>\n",
       "      <td>1.0</td>\n",
       "      <td>49039.57</td>\n",
       "      <td>40761.25</td>\n",
       "      <td>8278.32</td>\n",
       "      <td>558.166886</td>\n",
       "      <td>1.0</td>\n",
       "      <td>1.0</td>\n",
       "      <td>0.916667</td>\n",
       "      <td>0.083333</td>\n",
       "      <td>1</td>\n",
       "      <td>101</td>\n",
       "      <td>22500.0</td>\n",
       "      <td>46930.59824</td>\n",
       "      <td>2974.069421</td>\n",
       "      <td>0.25</td>\n",
       "      <td>12</td>\n",
       "    </tr>\n",
       "  </tbody>\n",
       "</table>\n",
       "</div>"
      ],
      "text/plain": [
       "    CUST_ID      BALANCE  BALANCE_FREQUENCY  PURCHASES  ONEOFF_PURCHASES  \\\n",
       "550  C10574  11547.52001                1.0   49039.57          40761.25   \n",
       "\n",
       "     INSTALLMENTS_PURCHASES  CASH_ADVANCE  PURCHASES_FREQUENCY  \\\n",
       "550                 8278.32    558.166886                  1.0   \n",
       "\n",
       "     ONEOFF_PURCHASES_FREQUENCY  PURCHASES_INSTALLMENTS_FREQUENCY  \\\n",
       "550                         1.0                          0.916667   \n",
       "\n",
       "     CASH_ADVANCE_FREQUENCY  CASH_ADVANCE_TRX  PURCHASES_TRX  CREDIT_LIMIT  \\\n",
       "550                0.083333                 1            101       22500.0   \n",
       "\n",
       "        PAYMENTS  MINIMUM_PAYMENTS  PRC_FULL_PAYMENT  TENURE  \n",
       "550  46930.59824       2974.069421              0.25      12  "
      ]
     },
     "execution_count": 6,
     "metadata": {},
     "output_type": "execute_result"
    }
   ],
   "source": [
    "creditcard_df[creditcard_df['ONEOFF_PURCHASES']== 40761.250000]"
   ]
  },
  {
   "cell_type": "code",
   "execution_count": 7,
   "id": "6ba7abf7",
   "metadata": {
    "execution": {
     "iopub.execute_input": "2022-11-01T16:45:49.261941Z",
     "iopub.status.busy": "2022-11-01T16:45:49.261261Z",
     "iopub.status.idle": "2022-11-01T16:45:49.282453Z",
     "shell.execute_reply": "2022-11-01T16:45:49.281284Z"
    },
    "papermill": {
     "duration": 0.035394,
     "end_time": "2022-11-01T16:45:49.284955",
     "exception": false,
     "start_time": "2022-11-01T16:45:49.249561",
     "status": "completed"
    },
    "tags": []
   },
   "outputs": [
    {
     "data": {
      "text/html": [
       "<div>\n",
       "<style scoped>\n",
       "    .dataframe tbody tr th:only-of-type {\n",
       "        vertical-align: middle;\n",
       "    }\n",
       "\n",
       "    .dataframe tbody tr th {\n",
       "        vertical-align: top;\n",
       "    }\n",
       "\n",
       "    .dataframe thead th {\n",
       "        text-align: right;\n",
       "    }\n",
       "</style>\n",
       "<table border=\"1\" class=\"dataframe\">\n",
       "  <thead>\n",
       "    <tr style=\"text-align: right;\">\n",
       "      <th></th>\n",
       "      <th>CUST_ID</th>\n",
       "      <th>BALANCE</th>\n",
       "      <th>BALANCE_FREQUENCY</th>\n",
       "      <th>PURCHASES</th>\n",
       "      <th>ONEOFF_PURCHASES</th>\n",
       "      <th>INSTALLMENTS_PURCHASES</th>\n",
       "      <th>CASH_ADVANCE</th>\n",
       "      <th>PURCHASES_FREQUENCY</th>\n",
       "      <th>ONEOFF_PURCHASES_FREQUENCY</th>\n",
       "      <th>PURCHASES_INSTALLMENTS_FREQUENCY</th>\n",
       "      <th>CASH_ADVANCE_FREQUENCY</th>\n",
       "      <th>CASH_ADVANCE_TRX</th>\n",
       "      <th>PURCHASES_TRX</th>\n",
       "      <th>CREDIT_LIMIT</th>\n",
       "      <th>PAYMENTS</th>\n",
       "      <th>MINIMUM_PAYMENTS</th>\n",
       "      <th>PRC_FULL_PAYMENT</th>\n",
       "      <th>TENURE</th>\n",
       "    </tr>\n",
       "  </thead>\n",
       "  <tbody>\n",
       "    <tr>\n",
       "      <th>2159</th>\n",
       "      <td>C12226</td>\n",
       "      <td>10905.05381</td>\n",
       "      <td>1.0</td>\n",
       "      <td>431.93</td>\n",
       "      <td>133.5</td>\n",
       "      <td>298.43</td>\n",
       "      <td>47137.21176</td>\n",
       "      <td>0.583333</td>\n",
       "      <td>0.25</td>\n",
       "      <td>0.5</td>\n",
       "      <td>1.0</td>\n",
       "      <td>123</td>\n",
       "      <td>21</td>\n",
       "      <td>19600.0</td>\n",
       "      <td>39048.59762</td>\n",
       "      <td>5394.173671</td>\n",
       "      <td>0.0</td>\n",
       "      <td>12</td>\n",
       "    </tr>\n",
       "  </tbody>\n",
       "</table>\n",
       "</div>"
      ],
      "text/plain": [
       "     CUST_ID      BALANCE  BALANCE_FREQUENCY  PURCHASES  ONEOFF_PURCHASES  \\\n",
       "2159  C12226  10905.05381                1.0     431.93             133.5   \n",
       "\n",
       "      INSTALLMENTS_PURCHASES  CASH_ADVANCE  PURCHASES_FREQUENCY  \\\n",
       "2159                  298.43   47137.21176             0.583333   \n",
       "\n",
       "      ONEOFF_PURCHASES_FREQUENCY  PURCHASES_INSTALLMENTS_FREQUENCY  \\\n",
       "2159                        0.25                               0.5   \n",
       "\n",
       "      CASH_ADVANCE_FREQUENCY  CASH_ADVANCE_TRX  PURCHASES_TRX  CREDIT_LIMIT  \\\n",
       "2159                     1.0               123             21       19600.0   \n",
       "\n",
       "         PAYMENTS  MINIMUM_PAYMENTS  PRC_FULL_PAYMENT  TENURE  \n",
       "2159  39048.59762       5394.173671               0.0      12  "
      ]
     },
     "execution_count": 7,
     "metadata": {},
     "output_type": "execute_result"
    }
   ],
   "source": [
    "creditcard_df[creditcard_df['CASH_ADVANCE']== 47137.211760]"
   ]
  },
  {
   "cell_type": "markdown",
   "id": "38492b96",
   "metadata": {
    "papermill": {
     "duration": 0.009978,
     "end_time": "2022-11-01T16:45:49.305364",
     "exception": false,
     "start_time": "2022-11-01T16:45:49.295386",
     "status": "completed"
    },
    "tags": []
   },
   "source": [
    "# VIZUALIZATION AND EXPLORATION"
   ]
  },
  {
   "cell_type": "code",
   "execution_count": 8,
   "id": "3d1d0d51",
   "metadata": {
    "execution": {
     "iopub.execute_input": "2022-11-01T16:45:49.328044Z",
     "iopub.status.busy": "2022-11-01T16:45:49.327661Z",
     "iopub.status.idle": "2022-11-01T16:45:49.337665Z",
     "shell.execute_reply": "2022-11-01T16:45:49.336697Z"
    },
    "papermill": {
     "duration": 0.024289,
     "end_time": "2022-11-01T16:45:49.339975",
     "exception": false,
     "start_time": "2022-11-01T16:45:49.315686",
     "status": "completed"
    },
    "tags": []
   },
   "outputs": [
    {
     "data": {
      "text/plain": [
       "CUST_ID                               0\n",
       "BALANCE                               0\n",
       "BALANCE_FREQUENCY                     0\n",
       "PURCHASES                             0\n",
       "ONEOFF_PURCHASES                      0\n",
       "INSTALLMENTS_PURCHASES                0\n",
       "CASH_ADVANCE                          0\n",
       "PURCHASES_FREQUENCY                   0\n",
       "ONEOFF_PURCHASES_FREQUENCY            0\n",
       "PURCHASES_INSTALLMENTS_FREQUENCY      0\n",
       "CASH_ADVANCE_FREQUENCY                0\n",
       "CASH_ADVANCE_TRX                      0\n",
       "PURCHASES_TRX                         0\n",
       "CREDIT_LIMIT                          1\n",
       "PAYMENTS                              0\n",
       "MINIMUM_PAYMENTS                    313\n",
       "PRC_FULL_PAYMENT                      0\n",
       "TENURE                                0\n",
       "dtype: int64"
      ]
     },
     "execution_count": 8,
     "metadata": {},
     "output_type": "execute_result"
    }
   ],
   "source": [
    "creditcard_df.isnull().sum()"
   ]
  },
  {
   "cell_type": "code",
   "execution_count": 9,
   "id": "91dadcfc",
   "metadata": {
    "execution": {
     "iopub.execute_input": "2022-11-01T16:45:49.362234Z",
     "iopub.status.busy": "2022-11-01T16:45:49.361833Z",
     "iopub.status.idle": "2022-11-01T16:45:49.368070Z",
     "shell.execute_reply": "2022-11-01T16:45:49.367303Z"
    },
    "papermill": {
     "duration": 0.019645,
     "end_time": "2022-11-01T16:45:49.370016",
     "exception": false,
     "start_time": "2022-11-01T16:45:49.350371",
     "status": "completed"
    },
    "tags": []
   },
   "outputs": [],
   "source": [
    "creditcard_df.loc[(creditcard_df['MINIMUM_PAYMENTS'].isnull()==True),'MINIMUM_PAYMENTS'] =creditcard_df['MINIMUM_PAYMENTS'].mean()"
   ]
  },
  {
   "cell_type": "code",
   "execution_count": 10,
   "id": "30b01aec",
   "metadata": {
    "execution": {
     "iopub.execute_input": "2022-11-01T16:45:49.392878Z",
     "iopub.status.busy": "2022-11-01T16:45:49.391998Z",
     "iopub.status.idle": "2022-11-01T16:45:49.399572Z",
     "shell.execute_reply": "2022-11-01T16:45:49.398385Z"
    },
    "papermill": {
     "duration": 0.021458,
     "end_time": "2022-11-01T16:45:49.401928",
     "exception": false,
     "start_time": "2022-11-01T16:45:49.380470",
     "status": "completed"
    },
    "tags": []
   },
   "outputs": [],
   "source": [
    "creditcard_df.loc[(creditcard_df['CREDIT_LIMIT'].isnull()==True),'CREDIT_LIMIT'] =creditcard_df['CREDIT_LIMIT'].min()"
   ]
  },
  {
   "cell_type": "code",
   "execution_count": 11,
   "id": "147fe6a2",
   "metadata": {
    "execution": {
     "iopub.execute_input": "2022-11-01T16:45:49.424564Z",
     "iopub.status.busy": "2022-11-01T16:45:49.423508Z",
     "iopub.status.idle": "2022-11-01T16:45:49.434010Z",
     "shell.execute_reply": "2022-11-01T16:45:49.432990Z"
    },
    "papermill": {
     "duration": 0.024132,
     "end_time": "2022-11-01T16:45:49.436297",
     "exception": false,
     "start_time": "2022-11-01T16:45:49.412165",
     "status": "completed"
    },
    "tags": []
   },
   "outputs": [
    {
     "data": {
      "text/plain": [
       "CUST_ID                             0\n",
       "BALANCE                             0\n",
       "BALANCE_FREQUENCY                   0\n",
       "PURCHASES                           0\n",
       "ONEOFF_PURCHASES                    0\n",
       "INSTALLMENTS_PURCHASES              0\n",
       "CASH_ADVANCE                        0\n",
       "PURCHASES_FREQUENCY                 0\n",
       "ONEOFF_PURCHASES_FREQUENCY          0\n",
       "PURCHASES_INSTALLMENTS_FREQUENCY    0\n",
       "CASH_ADVANCE_FREQUENCY              0\n",
       "CASH_ADVANCE_TRX                    0\n",
       "PURCHASES_TRX                       0\n",
       "CREDIT_LIMIT                        0\n",
       "PAYMENTS                            0\n",
       "MINIMUM_PAYMENTS                    0\n",
       "PRC_FULL_PAYMENT                    0\n",
       "TENURE                              0\n",
       "dtype: int64"
      ]
     },
     "execution_count": 11,
     "metadata": {},
     "output_type": "execute_result"
    }
   ],
   "source": [
    "creditcard_df.isnull().sum()"
   ]
  },
  {
   "cell_type": "code",
   "execution_count": 12,
   "id": "a6e575c4",
   "metadata": {
    "execution": {
     "iopub.execute_input": "2022-11-01T16:45:49.458736Z",
     "iopub.status.busy": "2022-11-01T16:45:49.458300Z",
     "iopub.status.idle": "2022-11-01T16:45:50.202224Z",
     "shell.execute_reply": "2022-11-01T16:45:50.200992Z"
    },
    "papermill": {
     "duration": 0.758198,
     "end_time": "2022-11-01T16:45:50.204766",
     "exception": false,
     "start_time": "2022-11-01T16:45:49.446568",
     "status": "completed"
    },
    "tags": []
   },
   "outputs": [
    {
     "data": {
      "text/plain": [
       "<AxesSubplot:>"
      ]
     },
     "execution_count": 12,
     "metadata": {},
     "output_type": "execute_result"
    },
    {
     "data": {
      "image/png": "[encoded data removed]",
      "text/plain": [
       "<Figure size 432x288 with 2 Axes>"
      ]
     },
     "metadata": {
      "needs_background": "light"
     },
     "output_type": "display_data"
    }
   ],
   "source": [
    "sns.heatmap(creditcard_df.isnull())"
   ]
  },
  {
   "cell_type": "code",
   "execution_count": 13,
   "id": "28bf7e9a",
   "metadata": {
    "execution": {
     "iopub.execute_input": "2022-11-01T16:45:50.229579Z",
     "iopub.status.busy": "2022-11-01T16:45:50.229197Z",
     "iopub.status.idle": "2022-11-01T16:45:50.248897Z",
     "shell.execute_reply": "2022-11-01T16:45:50.247899Z"
    },
    "papermill": {
     "duration": 0.034948,
     "end_time": "2022-11-01T16:45:50.251206",
     "exception": false,
     "start_time": "2022-11-01T16:45:50.216258",
     "status": "completed"
    },
    "tags": []
   },
   "outputs": [
    {
     "data": {
      "text/plain": [
       "0"
      ]
     },
     "execution_count": 13,
     "metadata": {},
     "output_type": "execute_result"
    }
   ],
   "source": [
    "creditcard_df.duplicated().sum()"
   ]
  },
  {
   "cell_type": "code",
   "execution_count": 14,
   "id": "ba333684",
   "metadata": {
    "execution": {
     "iopub.execute_input": "2022-11-01T16:45:50.275198Z",
     "iopub.status.busy": "2022-11-01T16:45:50.274444Z",
     "iopub.status.idle": "2022-11-01T16:45:50.297859Z",
     "shell.execute_reply": "2022-11-01T16:45:50.296766Z"
    },
    "papermill": {
     "duration": 0.037743,
     "end_time": "2022-11-01T16:45:50.299976",
     "exception": false,
     "start_time": "2022-11-01T16:45:50.262233",
     "status": "completed"
    },
    "tags": []
   },
   "outputs": [
    {
     "data": {
      "text/html": [
       "<div>\n",
       "<style scoped>\n",
       "    .dataframe tbody tr th:only-of-type {\n",
       "        vertical-align: middle;\n",
       "    }\n",
       "\n",
       "    .dataframe tbody tr th {\n",
       "        vertical-align: top;\n",
       "    }\n",
       "\n",
       "    .dataframe thead th {\n",
       "        text-align: right;\n",
       "    }\n",
       "</style>\n",
       "<table border=\"1\" class=\"dataframe\">\n",
       "  <thead>\n",
       "    <tr style=\"text-align: right;\">\n",
       "      <th></th>\n",
       "      <th>CUST_ID</th>\n",
       "      <th>BALANCE</th>\n",
       "      <th>BALANCE_FREQUENCY</th>\n",
       "      <th>PURCHASES</th>\n",
       "      <th>ONEOFF_PURCHASES</th>\n",
       "      <th>INSTALLMENTS_PURCHASES</th>\n",
       "      <th>CASH_ADVANCE</th>\n",
       "      <th>PURCHASES_FREQUENCY</th>\n",
       "      <th>ONEOFF_PURCHASES_FREQUENCY</th>\n",
       "      <th>PURCHASES_INSTALLMENTS_FREQUENCY</th>\n",
       "      <th>CASH_ADVANCE_FREQUENCY</th>\n",
       "      <th>CASH_ADVANCE_TRX</th>\n",
       "      <th>PURCHASES_TRX</th>\n",
       "      <th>CREDIT_LIMIT</th>\n",
       "      <th>PAYMENTS</th>\n",
       "      <th>MINIMUM_PAYMENTS</th>\n",
       "      <th>PRC_FULL_PAYMENT</th>\n",
       "      <th>TENURE</th>\n",
       "    </tr>\n",
       "  </thead>\n",
       "  <tbody>\n",
       "    <tr>\n",
       "      <th>0</th>\n",
       "      <td>C10001</td>\n",
       "      <td>40.900749</td>\n",
       "      <td>0.818182</td>\n",
       "      <td>95.40</td>\n",
       "      <td>0.00</td>\n",
       "      <td>95.4</td>\n",
       "      <td>0.000000</td>\n",
       "      <td>0.166667</td>\n",
       "      <td>0.000000</td>\n",
       "      <td>0.083333</td>\n",
       "      <td>0.000000</td>\n",
       "      <td>0</td>\n",
       "      <td>2</td>\n",
       "      <td>1000.0</td>\n",
       "      <td>201.802084</td>\n",
       "      <td>139.509787</td>\n",
       "      <td>0.000000</td>\n",
       "      <td>12</td>\n",
       "    </tr>\n",
       "    <tr>\n",
       "      <th>1</th>\n",
       "      <td>C10002</td>\n",
       "      <td>3202.467416</td>\n",
       "      <td>0.909091</td>\n",
       "      <td>0.00</td>\n",
       "      <td>0.00</td>\n",
       "      <td>0.0</td>\n",
       "      <td>6442.945483</td>\n",
       "      <td>0.000000</td>\n",
       "      <td>0.000000</td>\n",
       "      <td>0.000000</td>\n",
       "      <td>0.250000</td>\n",
       "      <td>4</td>\n",
       "      <td>0</td>\n",
       "      <td>7000.0</td>\n",
       "      <td>4103.032597</td>\n",
       "      <td>1072.340217</td>\n",
       "      <td>0.222222</td>\n",
       "      <td>12</td>\n",
       "    </tr>\n",
       "    <tr>\n",
       "      <th>2</th>\n",
       "      <td>C10003</td>\n",
       "      <td>2495.148862</td>\n",
       "      <td>1.000000</td>\n",
       "      <td>773.17</td>\n",
       "      <td>773.17</td>\n",
       "      <td>0.0</td>\n",
       "      <td>0.000000</td>\n",
       "      <td>1.000000</td>\n",
       "      <td>1.000000</td>\n",
       "      <td>0.000000</td>\n",
       "      <td>0.000000</td>\n",
       "      <td>0</td>\n",
       "      <td>12</td>\n",
       "      <td>7500.0</td>\n",
       "      <td>622.066742</td>\n",
       "      <td>627.284787</td>\n",
       "      <td>0.000000</td>\n",
       "      <td>12</td>\n",
       "    </tr>\n",
       "    <tr>\n",
       "      <th>3</th>\n",
       "      <td>C10004</td>\n",
       "      <td>1666.670542</td>\n",
       "      <td>0.636364</td>\n",
       "      <td>1499.00</td>\n",
       "      <td>1499.00</td>\n",
       "      <td>0.0</td>\n",
       "      <td>205.788017</td>\n",
       "      <td>0.083333</td>\n",
       "      <td>0.083333</td>\n",
       "      <td>0.000000</td>\n",
       "      <td>0.083333</td>\n",
       "      <td>1</td>\n",
       "      <td>1</td>\n",
       "      <td>7500.0</td>\n",
       "      <td>0.000000</td>\n",
       "      <td>864.206542</td>\n",
       "      <td>0.000000</td>\n",
       "      <td>12</td>\n",
       "    </tr>\n",
       "    <tr>\n",
       "      <th>4</th>\n",
       "      <td>C10005</td>\n",
       "      <td>817.714335</td>\n",
       "      <td>1.000000</td>\n",
       "      <td>16.00</td>\n",
       "      <td>16.00</td>\n",
       "      <td>0.0</td>\n",
       "      <td>0.000000</td>\n",
       "      <td>0.083333</td>\n",
       "      <td>0.083333</td>\n",
       "      <td>0.000000</td>\n",
       "      <td>0.000000</td>\n",
       "      <td>0</td>\n",
       "      <td>1</td>\n",
       "      <td>1200.0</td>\n",
       "      <td>678.334763</td>\n",
       "      <td>244.791237</td>\n",
       "      <td>0.000000</td>\n",
       "      <td>12</td>\n",
       "    </tr>\n",
       "  </tbody>\n",
       "</table>\n",
       "</div>"
      ],
      "text/plain": [
       "  CUST_ID      BALANCE  BALANCE_FREQUENCY  PURCHASES  ONEOFF_PURCHASES  \\\n",
       "0  C10001    40.900749           0.818182      95.40              0.00   \n",
       "1  C10002  3202.467416           0.909091       0.00              0.00   \n",
       "2  C10003  2495.148862           1.000000     773.17            773.17   \n",
       "3  C10004  1666.670542           0.636364    1499.00           1499.00   \n",
       "4  C10005   817.714335           1.000000      16.00             16.00   \n",
       "\n",
       "   INSTALLMENTS_PURCHASES  CASH_ADVANCE  PURCHASES_FREQUENCY  \\\n",
       "0                    95.4      0.000000             0.166667   \n",
       "1                     0.0   6442.945483             0.000000   \n",
       "2                     0.0      0.000000             1.000000   \n",
       "3                     0.0    205.788017             0.083333   \n",
       "4                     0.0      0.000000             0.083333   \n",
       "\n",
       "   ONEOFF_PURCHASES_FREQUENCY  PURCHASES_INSTALLMENTS_FREQUENCY  \\\n",
       "0                    0.000000                          0.083333   \n",
       "1                    0.000000                          0.000000   \n",
       "2                    1.000000                          0.000000   \n",
       "3                    0.083333                          0.000000   \n",
       "4                    0.083333                          0.000000   \n",
       "\n",
       "   CASH_ADVANCE_FREQUENCY  CASH_ADVANCE_TRX  PURCHASES_TRX  CREDIT_LIMIT  \\\n",
       "0                0.000000                 0              2        1000.0   \n",
       "1                0.250000                 4              0        7000.0   \n",
       "2                0.000000                 0             12        7500.0   \n",
       "3                0.083333                 1              1        7500.0   \n",
       "4                0.000000                 0              1        1200.0   \n",
       "\n",
       "      PAYMENTS  MINIMUM_PAYMENTS  PRC_FULL_PAYMENT  TENURE  \n",
       "0   201.802084        139.509787          0.000000      12  \n",
       "1  4103.032597       1072.340217          0.222222      12  \n",
       "2   622.066742        627.284787          0.000000      12  \n",
       "3     0.000000        864.206542          0.000000      12  \n",
       "4   678.334763        244.791237          0.000000      12  "
      ]
     },
     "execution_count": 14,
     "metadata": {},
     "output_type": "execute_result"
    }
   ],
   "source": [
    "creditcard_df.head()"
   ]
  },
  {
   "cell_type": "code",
   "execution_count": 15,
   "id": "65d9085a",
   "metadata": {
    "execution": {
     "iopub.execute_input": "2022-11-01T16:45:50.324126Z",
     "iopub.status.busy": "2022-11-01T16:45:50.323717Z",
     "iopub.status.idle": "2022-11-01T16:45:50.329751Z",
     "shell.execute_reply": "2022-11-01T16:45:50.328923Z"
    },
    "papermill": {
     "duration": 0.020587,
     "end_time": "2022-11-01T16:45:50.331923",
     "exception": false,
     "start_time": "2022-11-01T16:45:50.311336",
     "status": "completed"
    },
    "tags": []
   },
   "outputs": [],
   "source": [
    "creditcard_df.drop('CUST_ID', axis=1, inplace=True)"
   ]
  },
  {
   "cell_type": "code",
   "execution_count": 16,
   "id": "c30c97f6",
   "metadata": {
    "execution": {
     "iopub.execute_input": "2022-11-01T16:45:50.356729Z",
     "iopub.status.busy": "2022-11-01T16:45:50.355689Z",
     "iopub.status.idle": "2022-11-01T16:45:50.382610Z",
     "shell.execute_reply": "2022-11-01T16:45:50.381487Z"
    },
    "papermill": {
     "duration": 0.0417,
     "end_time": "2022-11-01T16:45:50.384950",
     "exception": false,
     "start_time": "2022-11-01T16:45:50.343250",
     "status": "completed"
    },
    "tags": []
   },
   "outputs": [
    {
     "data": {
      "text/html": [
       "<div>\n",
       "<style scoped>\n",
       "    .dataframe tbody tr th:only-of-type {\n",
       "        vertical-align: middle;\n",
       "    }\n",
       "\n",
       "    .dataframe tbody tr th {\n",
       "        vertical-align: top;\n",
       "    }\n",
       "\n",
       "    .dataframe thead th {\n",
       "        text-align: right;\n",
       "    }\n",
       "</style>\n",
       "<table border=\"1\" class=\"dataframe\">\n",
       "  <thead>\n",
       "    <tr style=\"text-align: right;\">\n",
       "      <th></th>\n",
       "      <th>BALANCE</th>\n",
       "      <th>BALANCE_FREQUENCY</th>\n",
       "      <th>PURCHASES</th>\n",
       "      <th>ONEOFF_PURCHASES</th>\n",
       "      <th>INSTALLMENTS_PURCHASES</th>\n",
       "      <th>CASH_ADVANCE</th>\n",
       "      <th>PURCHASES_FREQUENCY</th>\n",
       "      <th>ONEOFF_PURCHASES_FREQUENCY</th>\n",
       "      <th>PURCHASES_INSTALLMENTS_FREQUENCY</th>\n",
       "      <th>CASH_ADVANCE_FREQUENCY</th>\n",
       "      <th>CASH_ADVANCE_TRX</th>\n",
       "      <th>PURCHASES_TRX</th>\n",
       "      <th>CREDIT_LIMIT</th>\n",
       "      <th>PAYMENTS</th>\n",
       "      <th>MINIMUM_PAYMENTS</th>\n",
       "      <th>PRC_FULL_PAYMENT</th>\n",
       "      <th>TENURE</th>\n",
       "    </tr>\n",
       "  </thead>\n",
       "  <tbody>\n",
       "    <tr>\n",
       "      <th>0</th>\n",
       "      <td>40.900749</td>\n",
       "      <td>0.818182</td>\n",
       "      <td>95.40</td>\n",
       "      <td>0.00</td>\n",
       "      <td>95.40</td>\n",
       "      <td>0.000000</td>\n",
       "      <td>0.166667</td>\n",
       "      <td>0.000000</td>\n",
       "      <td>0.083333</td>\n",
       "      <td>0.000000</td>\n",
       "      <td>0</td>\n",
       "      <td>2</td>\n",
       "      <td>1000.0</td>\n",
       "      <td>201.802084</td>\n",
       "      <td>139.509787</td>\n",
       "      <td>0.000000</td>\n",
       "      <td>12</td>\n",
       "    </tr>\n",
       "    <tr>\n",
       "      <th>1</th>\n",
       "      <td>3202.467416</td>\n",
       "      <td>0.909091</td>\n",
       "      <td>0.00</td>\n",
       "      <td>0.00</td>\n",
       "      <td>0.00</td>\n",
       "      <td>6442.945483</td>\n",
       "      <td>0.000000</td>\n",
       "      <td>0.000000</td>\n",
       "      <td>0.000000</td>\n",
       "      <td>0.250000</td>\n",
       "      <td>4</td>\n",
       "      <td>0</td>\n",
       "      <td>7000.0</td>\n",
       "      <td>4103.032597</td>\n",
       "      <td>1072.340217</td>\n",
       "      <td>0.222222</td>\n",
       "      <td>12</td>\n",
       "    </tr>\n",
       "    <tr>\n",
       "      <th>2</th>\n",
       "      <td>2495.148862</td>\n",
       "      <td>1.000000</td>\n",
       "      <td>773.17</td>\n",
       "      <td>773.17</td>\n",
       "      <td>0.00</td>\n",
       "      <td>0.000000</td>\n",
       "      <td>1.000000</td>\n",
       "      <td>1.000000</td>\n",
       "      <td>0.000000</td>\n",
       "      <td>0.000000</td>\n",
       "      <td>0</td>\n",
       "      <td>12</td>\n",
       "      <td>7500.0</td>\n",
       "      <td>622.066742</td>\n",
       "      <td>627.284787</td>\n",
       "      <td>0.000000</td>\n",
       "      <td>12</td>\n",
       "    </tr>\n",
       "    <tr>\n",
       "      <th>3</th>\n",
       "      <td>1666.670542</td>\n",
       "      <td>0.636364</td>\n",
       "      <td>1499.00</td>\n",
       "      <td>1499.00</td>\n",
       "      <td>0.00</td>\n",
       "      <td>205.788017</td>\n",
       "      <td>0.083333</td>\n",
       "      <td>0.083333</td>\n",
       "      <td>0.000000</td>\n",
       "      <td>0.083333</td>\n",
       "      <td>1</td>\n",
       "      <td>1</td>\n",
       "      <td>7500.0</td>\n",
       "      <td>0.000000</td>\n",
       "      <td>864.206542</td>\n",
       "      <td>0.000000</td>\n",
       "      <td>12</td>\n",
       "    </tr>\n",
       "    <tr>\n",
       "      <th>4</th>\n",
       "      <td>817.714335</td>\n",
       "      <td>1.000000</td>\n",
       "      <td>16.00</td>\n",
       "      <td>16.00</td>\n",
       "      <td>0.00</td>\n",
       "      <td>0.000000</td>\n",
       "      <td>0.083333</td>\n",
       "      <td>0.083333</td>\n",
       "      <td>0.000000</td>\n",
       "      <td>0.000000</td>\n",
       "      <td>0</td>\n",
       "      <td>1</td>\n",
       "      <td>1200.0</td>\n",
       "      <td>678.334763</td>\n",
       "      <td>244.791237</td>\n",
       "      <td>0.000000</td>\n",
       "      <td>12</td>\n",
       "    </tr>\n",
       "    <tr>\n",
       "      <th>...</th>\n",
       "      <td>...</td>\n",
       "      <td>...</td>\n",
       "      <td>...</td>\n",
       "      <td>...</td>\n",
       "      <td>...</td>\n",
       "      <td>...</td>\n",
       "      <td>...</td>\n",
       "      <td>...</td>\n",
       "      <td>...</td>\n",
       "      <td>...</td>\n",
       "      <td>...</td>\n",
       "      <td>...</td>\n",
       "      <td>...</td>\n",
       "      <td>...</td>\n",
       "      <td>...</td>\n",
       "      <td>...</td>\n",
       "      <td>...</td>\n",
       "    </tr>\n",
       "    <tr>\n",
       "      <th>8945</th>\n",
       "      <td>28.493517</td>\n",
       "      <td>1.000000</td>\n",
       "      <td>291.12</td>\n",
       "      <td>0.00</td>\n",
       "      <td>291.12</td>\n",
       "      <td>0.000000</td>\n",
       "      <td>1.000000</td>\n",
       "      <td>0.000000</td>\n",
       "      <td>0.833333</td>\n",
       "      <td>0.000000</td>\n",
       "      <td>0</td>\n",
       "      <td>6</td>\n",
       "      <td>1000.0</td>\n",
       "      <td>325.594462</td>\n",
       "      <td>48.886365</td>\n",
       "      <td>0.500000</td>\n",
       "      <td>6</td>\n",
       "    </tr>\n",
       "    <tr>\n",
       "      <th>8946</th>\n",
       "      <td>19.183215</td>\n",
       "      <td>1.000000</td>\n",
       "      <td>300.00</td>\n",
       "      <td>0.00</td>\n",
       "      <td>300.00</td>\n",
       "      <td>0.000000</td>\n",
       "      <td>1.000000</td>\n",
       "      <td>0.000000</td>\n",
       "      <td>0.833333</td>\n",
       "      <td>0.000000</td>\n",
       "      <td>0</td>\n",
       "      <td>6</td>\n",
       "      <td>1000.0</td>\n",
       "      <td>275.861322</td>\n",
       "      <td>864.206542</td>\n",
       "      <td>0.000000</td>\n",
       "      <td>6</td>\n",
       "    </tr>\n",
       "    <tr>\n",
       "      <th>8947</th>\n",
       "      <td>23.398673</td>\n",
       "      <td>0.833333</td>\n",
       "      <td>144.40</td>\n",
       "      <td>0.00</td>\n",
       "      <td>144.40</td>\n",
       "      <td>0.000000</td>\n",
       "      <td>0.833333</td>\n",
       "      <td>0.000000</td>\n",
       "      <td>0.666667</td>\n",
       "      <td>0.000000</td>\n",
       "      <td>0</td>\n",
       "      <td>5</td>\n",
       "      <td>1000.0</td>\n",
       "      <td>81.270775</td>\n",
       "      <td>82.418369</td>\n",
       "      <td>0.250000</td>\n",
       "      <td>6</td>\n",
       "    </tr>\n",
       "    <tr>\n",
       "      <th>8948</th>\n",
       "      <td>13.457564</td>\n",
       "      <td>0.833333</td>\n",
       "      <td>0.00</td>\n",
       "      <td>0.00</td>\n",
       "      <td>0.00</td>\n",
       "      <td>36.558778</td>\n",
       "      <td>0.000000</td>\n",
       "      <td>0.000000</td>\n",
       "      <td>0.000000</td>\n",
       "      <td>0.166667</td>\n",
       "      <td>2</td>\n",
       "      <td>0</td>\n",
       "      <td>500.0</td>\n",
       "      <td>52.549959</td>\n",
       "      <td>55.755628</td>\n",
       "      <td>0.250000</td>\n",
       "      <td>6</td>\n",
       "    </tr>\n",
       "    <tr>\n",
       "      <th>8949</th>\n",
       "      <td>372.708075</td>\n",
       "      <td>0.666667</td>\n",
       "      <td>1093.25</td>\n",
       "      <td>1093.25</td>\n",
       "      <td>0.00</td>\n",
       "      <td>127.040008</td>\n",
       "      <td>0.666667</td>\n",
       "      <td>0.666667</td>\n",
       "      <td>0.000000</td>\n",
       "      <td>0.333333</td>\n",
       "      <td>2</td>\n",
       "      <td>23</td>\n",
       "      <td>1200.0</td>\n",
       "      <td>63.165404</td>\n",
       "      <td>88.288956</td>\n",
       "      <td>0.000000</td>\n",
       "      <td>6</td>\n",
       "    </tr>\n",
       "  </tbody>\n",
       "</table>\n",
       "<p>8950 rows × 17 columns</p>\n",
       "</div>"
      ],
      "text/plain": [
       "          BALANCE  BALANCE_FREQUENCY  PURCHASES  ONEOFF_PURCHASES  \\\n",
       "0       40.900749           0.818182      95.40              0.00   \n",
       "1     3202.467416           0.909091       0.00              0.00   \n",
       "2     2495.148862           1.000000     773.17            773.17   \n",
       "3     1666.670542           0.636364    1499.00           1499.00   \n",
       "4      817.714335           1.000000      16.00             16.00   \n",
       "...           ...                ...        ...               ...   \n",
       "8945    28.493517           1.000000     291.12              0.00   \n",
       "8946    19.183215           1.000000     300.00              0.00   \n",
       "8947    23.398673           0.833333     144.40              0.00   \n",
       "8948    13.457564           0.833333       0.00              0.00   \n",
       "8949   372.708075           0.666667    1093.25           1093.25   \n",
       "\n",
       "      INSTALLMENTS_PURCHASES  CASH_ADVANCE  PURCHASES_FREQUENCY  \\\n",
       "0                      95.40      0.000000             0.166667   \n",
       "1                       0.00   6442.945483             0.000000   \n",
       "2                       0.00      0.000000             1.000000   \n",
       "3                       0.00    205.788017             0.083333   \n",
       "4                       0.00      0.000000             0.083333   \n",
       "...                      ...           ...                  ...   \n",
       "8945                  291.12      0.000000             1.000000   \n",
       "8946                  300.00      0.000000             1.000000   \n",
       "8947                  144.40      0.000000             0.833333   \n",
       "8948                    0.00     36.558778             0.000000   \n",
       "8949                    0.00    127.040008             0.666667   \n",
       "\n",
       "      ONEOFF_PURCHASES_FREQUENCY  PURCHASES_INSTALLMENTS_FREQUENCY  \\\n",
       "0                       0.000000                          0.083333   \n",
       "1                       0.000000                          0.000000   \n",
       "2                       1.000000                          0.000000   \n",
       "3                       0.083333                          0.000000   \n",
       "4                       0.083333                          0.000000   \n",
       "...                          ...                               ...   \n",
       "8945                    0.000000                          0.833333   \n",
       "8946                    0.000000                          0.833333   \n",
       "8947                    0.000000                          0.666667   \n",
       "8948                    0.000000                          0.000000   \n",
       "8949                    0.666667                          0.000000   \n",
       "\n",
       "      CASH_ADVANCE_FREQUENCY  CASH_ADVANCE_TRX  PURCHASES_TRX  CREDIT_LIMIT  \\\n",
       "0                   0.000000                 0              2        1000.0   \n",
       "1                   0.250000                 4              0        7000.0   \n",
       "2                   0.000000                 0             12        7500.0   \n",
       "3                   0.083333                 1              1        7500.0   \n",
       "4                   0.000000                 0              1        1200.0   \n",
       "...                      ...               ...            ...           ...   \n",
       "8945                0.000000                 0              6        1000.0   \n",
       "8946                0.000000                 0              6        1000.0   \n",
       "8947                0.000000                 0              5        1000.0   \n",
       "8948                0.166667                 2              0         500.0   \n",
       "8949                0.333333                 2             23        1200.0   \n",
       "\n",
       "         PAYMENTS  MINIMUM_PAYMENTS  PRC_FULL_PAYMENT  TENURE  \n",
       "0      201.802084        139.509787          0.000000      12  \n",
       "1     4103.032597       1072.340217          0.222222      12  \n",
       "2      622.066742        627.284787          0.000000      12  \n",
       "3        0.000000        864.206542          0.000000      12  \n",
       "4      678.334763        244.791237          0.000000      12  \n",
       "...           ...               ...               ...     ...  \n",
       "8945   325.594462         48.886365          0.500000       6  \n",
       "8946   275.861322        864.206542          0.000000       6  \n",
       "8947    81.270775         82.418369          0.250000       6  \n",
       "8948    52.549959         55.755628          0.250000       6  \n",
       "8949    63.165404         88.288956          0.000000       6  \n",
       "\n",
       "[8950 rows x 17 columns]"
      ]
     },
     "execution_count": 16,
     "metadata": {},
     "output_type": "execute_result"
    }
   ],
   "source": [
    "creditcard_df"
   ]
  },
  {
   "cell_type": "code",
   "execution_count": 17,
   "id": "7cbcbaef",
   "metadata": {
    "execution": {
     "iopub.execute_input": "2022-11-01T16:45:50.410694Z",
     "iopub.status.busy": "2022-11-01T16:45:50.410002Z",
     "iopub.status.idle": "2022-11-01T16:45:50.415551Z",
     "shell.execute_reply": "2022-11-01T16:45:50.414832Z"
    },
    "papermill": {
     "duration": 0.020605,
     "end_time": "2022-11-01T16:45:50.417479",
     "exception": false,
     "start_time": "2022-11-01T16:45:50.396874",
     "status": "completed"
    },
    "tags": []
   },
   "outputs": [
    {
     "data": {
      "text/plain": [
       "17"
      ]
     },
     "execution_count": 17,
     "metadata": {},
     "output_type": "execute_result"
    }
   ],
   "source": [
    "len(creditcard_df.columns)"
   ]
  },
  {
   "cell_type": "code",
   "execution_count": 18,
   "id": "5e0d35d8",
   "metadata": {
    "execution": {
     "iopub.execute_input": "2022-11-01T16:45:50.443443Z",
     "iopub.status.busy": "2022-11-01T16:45:50.442779Z",
     "iopub.status.idle": "2022-11-01T16:45:50.448501Z",
     "shell.execute_reply": "2022-11-01T16:45:50.447813Z"
    },
    "papermill": {
     "duration": 0.021,
     "end_time": "2022-11-01T16:45:50.450456",
     "exception": false,
     "start_time": "2022-11-01T16:45:50.429456",
     "status": "completed"
    },
    "tags": []
   },
   "outputs": [
    {
     "data": {
      "text/plain": [
       "Index(['BALANCE', 'BALANCE_FREQUENCY', 'PURCHASES', 'ONEOFF_PURCHASES',\n",
       "       'INSTALLMENTS_PURCHASES', 'CASH_ADVANCE', 'PURCHASES_FREQUENCY',\n",
       "       'ONEOFF_PURCHASES_FREQUENCY', 'PURCHASES_INSTALLMENTS_FREQUENCY',\n",
       "       'CASH_ADVANCE_FREQUENCY', 'CASH_ADVANCE_TRX', 'PURCHASES_TRX',\n",
       "       'CREDIT_LIMIT', 'PAYMENTS', 'MINIMUM_PAYMENTS', 'PRC_FULL_PAYMENT',\n",
       "       'TENURE'],\n",
       "      dtype='object')"
      ]
     },
     "execution_count": 18,
     "metadata": {},
     "output_type": "execute_result"
    }
   ],
   "source": [
    "creditcard_df.columns"
   ]
  },
  {
   "cell_type": "code",
   "execution_count": 19,
   "id": "5bdd61ef",
   "metadata": {
    "execution": {
     "iopub.execute_input": "2022-11-01T16:45:50.476398Z",
     "iopub.status.busy": "2022-11-01T16:45:50.475711Z",
     "iopub.status.idle": "2022-11-01T16:45:52.152669Z",
     "shell.execute_reply": "2022-11-01T16:45:52.151426Z"
    },
    "papermill": {
     "duration": 1.692685,
     "end_time": "2022-11-01T16:45:52.155108",
     "exception": false,
     "start_time": "2022-11-01T16:45:50.462423",
     "status": "completed"
    },
    "tags": []
   },
   "outputs": [
    {
     "name": "stderr",
     "output_type": "stream",
     "text": [
      "/opt/conda/lib/python3.7/site-packages/seaborn/distributions.py:2619: FutureWarning: `distplot` is a deprecated function and will be removed in a future version. Please adapt your code to use either `displot` (a figure-level function with similar flexibility) or `histplot` (an axes-level function for histograms).\n",
      "  warnings.warn(msg, FutureWarning)\n"
     ]
    },
    {
     "data": {
      "image/png": "[encoded data removed]",
      "text/plain": [
       "<Figure size 864x360 with 1 Axes>"
      ]
     },
     "metadata": {
      "needs_background": "light"
     },
     "output_type": "display_data"
    },
    {
     "name": "stderr",
     "output_type": "stream",
     "text": [
      "/opt/conda/lib/python3.7/site-packages/seaborn/distributions.py:2619: FutureWarning: `distplot` is a deprecated function and will be removed in a future version. Please adapt your code to use either `displot` (a figure-level function with similar flexibility) or `histplot` (an axes-level function for histograms).\n",
      "  warnings.warn(msg, FutureWarning)\n"
     ]
    },
    {
     "data": {
      "image/png": "[encoded data removed]",
      "text/plain": [
       "<Figure size 864x360 with 1 Axes>"
      ]
     },
     "metadata": {
      "needs_background": "light"
     },
     "output_type": "display_data"
    },
    {
     "name": "stderr",
     "output_type": "stream",
     "text": [
      "/opt/conda/lib/python3.7/site-packages/seaborn/distributions.py:2619: FutureWarning: `distplot` is a deprecated function and will be removed in a future version. Please adapt your code to use either `displot` (a figure-level function with similar flexibility) or `histplot` (an axes-level function for histograms).\n",
      "  warnings.warn(msg, FutureWarning)\n"
     ]
    },
    {
     "data": {
      "image/png": "[encoded data removed]",
      "text/plain": [
       "<Figure size 864x360 with 1 Axes>"
      ]
     },
     "metadata": {
      "needs_background": "light"
     },
     "output_type": "display_data"
    },
    {
     "name": "stderr",
     "output_type": "stream",
     "text": [
      "/opt/conda/lib/python3.7/site-packages/seaborn/distributions.py:2619: FutureWarning: `distplot` is a deprecated function and will be removed in a future version. Please adapt your code to use either `displot` (a figure-level function with similar flexibility) or `histplot` (an axes-level function for histograms).\n",
      "  warnings.warn(msg, FutureWarning)\n"
     ]
    },
    {
     "data": {
      "image/png": "[encoded data removed]",
      "text/plain": [
       "<Figure size 864x360 with 1 Axes>"
      ]
     },
     "metadata": {
      "needs_background": "light"
     },
     "output_type": "display_data"
    },
    {
     "name": "stderr",
     "output_type": "stream",
     "text": [
      "/opt/conda/lib/python3.7/site-packages/seaborn/distributions.py:2619: FutureWarning: `distplot` is a deprecated function and will be removed in a future version. Please adapt your code to use either `displot` (a figure-level function with similar flexibility) or `histplot` (an axes-level function for histograms).\n",
      "  warnings.warn(msg, FutureWarning)\n"
     ]
    },
    {
     "data": {
      "image/png": "[encoded data removed]",
      "text/plain": [
       "<Figure size 864x360 with 1 Axes>"
      ]
     },
     "metadata": {
      "needs_background": "light"
     },
     "output_type": "display_data"
    }
   ],
   "source": [
    "cols_to_plot = [\"PURCHASES\", \"PAYMENTS\", \"BALANCE\", \"ONEOFF_PURCHASES\", \"CREDIT_LIMIT\"]\n",
    "\n",
    "\n",
    "for col in cols_to_plot:\n",
    "    plt.figure(figsize=(12,5))\n",
    "    sns.distplot(creditcard_df[col])\n",
    "    plt.show()"
   ]
  },
  {
   "cell_type": "markdown",
   "id": "7ebe0b52",
   "metadata": {
    "papermill": {
     "duration": 0.014058,
     "end_time": "2022-11-01T16:45:52.184042",
     "exception": false,
     "start_time": "2022-11-01T16:45:52.169984",
     "status": "completed"
    },
    "tags": []
   },
   "source": [
    "***CORRELATION MATRIX***"
   ]
  },
  {
   "cell_type": "code",
   "execution_count": 20,
   "id": "e7beb52a",
   "metadata": {
    "execution": {
     "iopub.execute_input": "2022-11-01T16:45:52.214783Z",
     "iopub.status.busy": "2022-11-01T16:45:52.213518Z",
     "iopub.status.idle": "2022-11-01T16:45:54.272076Z",
     "shell.execute_reply": "2022-11-01T16:45:54.270815Z"
    },
    "papermill": {
     "duration": 2.07952,
     "end_time": "2022-11-01T16:45:54.277667",
     "exception": false,
     "start_time": "2022-11-01T16:45:52.198147",
     "status": "completed"
    },
    "tags": []
   },
   "outputs": [
    {
     "data": {
      "text/plain": [
       "<AxesSubplot:>"
      ]
     },
     "execution_count": 20,
     "metadata": {},
     "output_type": "execute_result"
    },
    {
     "data": {
      "image/png": "[encoded data removed]",
      "text/plain": [
       "<Figure size 1152x1008 with 2 Axes>"
      ]
     },
     "metadata": {
      "needs_background": "light"
     },
     "output_type": "display_data"
    }
   ],
   "source": [
    "plt.figure(figsize=(16,14))\n",
    "correlations = creditcard_df.corr()\n",
    "sns.heatmap(correlations ,annot = True )"
   ]
  },
  {
   "cell_type": "markdown",
   "id": "951f95f7",
   "metadata": {
    "papermill": {
     "duration": 0.017239,
     "end_time": "2022-11-01T16:45:54.312953",
     "exception": false,
     "start_time": "2022-11-01T16:45:54.295714",
     "status": "completed"
    },
    "tags": []
   },
   "source": [
    "# LETS SCALE THE DATA USING STANDARD SCALER"
   ]
  },
  {
   "cell_type": "code",
   "execution_count": 21,
   "id": "4ebf2646",
   "metadata": {
    "execution": {
     "iopub.execute_input": "2022-11-01T16:45:54.350946Z",
     "iopub.status.busy": "2022-11-01T16:45:54.349509Z",
     "iopub.status.idle": "2022-11-01T16:45:54.361590Z",
     "shell.execute_reply": "2022-11-01T16:45:54.360692Z"
    },
    "papermill": {
     "duration": 0.033476,
     "end_time": "2022-11-01T16:45:54.364273",
     "exception": false,
     "start_time": "2022-11-01T16:45:54.330797",
     "status": "completed"
    },
    "tags": []
   },
   "outputs": [],
   "source": [
    "scaler = StandardScaler()\n",
    "creditcard_df_scaled = scaler.fit_transform(creditcard_df)"
   ]
  },
  {
   "cell_type": "code",
   "execution_count": 22,
   "id": "935d7498",
   "metadata": {
    "execution": {
     "iopub.execute_input": "2022-11-01T16:45:54.403427Z",
     "iopub.status.busy": "2022-11-01T16:45:54.402773Z",
     "iopub.status.idle": "2022-11-01T16:45:54.409664Z",
     "shell.execute_reply": "2022-11-01T16:45:54.408728Z"
    },
    "papermill": {
     "duration": 0.028765,
     "end_time": "2022-11-01T16:45:54.411827",
     "exception": false,
     "start_time": "2022-11-01T16:45:54.383062",
     "status": "completed"
    },
    "tags": []
   },
   "outputs": [
    {
     "data": {
      "text/plain": [
       "(8950, 17)"
      ]
     },
     "execution_count": 22,
     "metadata": {},
     "output_type": "execute_result"
    }
   ],
   "source": [
    "creditcard_df_scaled.shape"
   ]
  },
  {
   "cell_type": "markdown",
   "id": "b95009a9",
   "metadata": {
    "papermill": {
     "duration": 0.017739,
     "end_time": "2022-11-01T16:45:54.448084",
     "exception": false,
     "start_time": "2022-11-01T16:45:54.430345",
     "status": "completed"
    },
    "tags": []
   },
   "source": [
    "***Lets find optimal number of cluster using elbow method***"
   ]
  },
  {
   "cell_type": "code",
   "execution_count": 23,
   "id": "b96c3a81",
   "metadata": {
    "execution": {
     "iopub.execute_input": "2022-11-01T16:45:54.487260Z",
     "iopub.status.busy": "2022-11-01T16:45:54.486584Z",
     "iopub.status.idle": "2022-11-01T16:46:31.068216Z",
     "shell.execute_reply": "2022-11-01T16:46:31.066795Z"
    },
    "papermill": {
     "duration": 36.604362,
     "end_time": "2022-11-01T16:46:31.071184",
     "exception": false,
     "start_time": "2022-11-01T16:45:54.466822",
     "status": "completed"
    },
    "tags": []
   },
   "outputs": [],
   "source": [
    "score_1 = []\n",
    "range_values = range(1,20)\n",
    "for i in range_values:\n",
    "    kmeans = KMeans(n_clusters = i)\n",
    "    kmeans.fit(creditcard_df_scaled)\n",
    "    score_1.append(kmeans.inertia_)\n",
    "    "
   ]
  },
  {
   "cell_type": "code",
   "execution_count": 24,
   "id": "8bae77fd",
   "metadata": {
    "execution": {
     "iopub.execute_input": "2022-11-01T16:46:31.111447Z",
     "iopub.status.busy": "2022-11-01T16:46:31.110977Z",
     "iopub.status.idle": "2022-11-01T16:46:31.345012Z",
     "shell.execute_reply": "2022-11-01T16:46:31.343912Z"
    },
    "papermill": {
     "duration": 0.257038,
     "end_time": "2022-11-01T16:46:31.348082",
     "exception": false,
     "start_time": "2022-11-01T16:46:31.091044",
     "status": "completed"
    },
    "tags": []
   },
   "outputs": [
    {
     "data": {
      "text/plain": [
       "Text(0, 0.5, 'wcss')"
      ]
     },
     "execution_count": 24,
     "metadata": {},
     "output_type": "execute_result"
    },
    {
     "data": {
      "image/png": "[encoded data removed]",
      "text/plain": [
       "<Figure size 432x288 with 1 Axes>"
      ]
     },
     "metadata": {
      "needs_background": "light"
     },
     "output_type": "display_data"
    }
   ],
   "source": [
    "plt.plot(score_1)\n",
    "plt.xlabel(\"number of cluster_centroid\")\n",
    "plt.ylabel(\"wcss\")"
   ]
  },
  {
   "cell_type": "markdown",
   "id": "2a4a4578",
   "metadata": {
    "papermill": {
     "duration": 0.01956,
     "end_time": "2022-11-01T16:46:31.387534",
     "exception": false,
     "start_time": "2022-11-01T16:46:31.367974",
     "status": "completed"
    },
    "tags": []
   },
   "source": [
    "#  K-mean method"
   ]
  },
  {
   "cell_type": "code",
   "execution_count": 25,
   "id": "e5680ce8",
   "metadata": {
    "execution": {
     "iopub.execute_input": "2022-11-01T16:46:31.427314Z",
     "iopub.status.busy": "2022-11-01T16:46:31.426436Z",
     "iopub.status.idle": "2022-11-01T16:46:33.113532Z",
     "shell.execute_reply": "2022-11-01T16:46:33.112568Z"
    },
    "papermill": {
     "duration": 1.709765,
     "end_time": "2022-11-01T16:46:33.116202",
     "exception": false,
     "start_time": "2022-11-01T16:46:31.406437",
     "status": "completed"
    },
    "tags": []
   },
   "outputs": [],
   "source": [
    "kmeans = KMeans(7)\n",
    "kmeans.fit(creditcard_df_scaled)\n",
    "labels = kmeans.labels_"
   ]
  },
  {
   "cell_type": "code",
   "execution_count": 26,
   "id": "874b0401",
   "metadata": {
    "execution": {
     "iopub.execute_input": "2022-11-01T16:46:33.157029Z",
     "iopub.status.busy": "2022-11-01T16:46:33.156595Z",
     "iopub.status.idle": "2022-11-01T16:46:33.164555Z",
     "shell.execute_reply": "2022-11-01T16:46:33.163139Z"
    },
    "papermill": {
     "duration": 0.030431,
     "end_time": "2022-11-01T16:46:33.167407",
     "exception": false,
     "start_time": "2022-11-01T16:46:33.136976",
     "status": "completed"
    },
    "tags": []
   },
   "outputs": [
    {
     "data": {
      "text/plain": [
       "(7, 17)"
      ]
     },
     "execution_count": 26,
     "metadata": {},
     "output_type": "execute_result"
    }
   ],
   "source": [
    "kmeans.cluster_centers_.shape"
   ]
  },
  {
   "cell_type": "code",
   "execution_count": 27,
   "id": "6f10aeb1",
   "metadata": {
    "execution": {
     "iopub.execute_input": "2022-11-01T16:46:33.205608Z",
     "iopub.status.busy": "2022-11-01T16:46:33.205210Z",
     "iopub.status.idle": "2022-11-01T16:46:33.212614Z",
     "shell.execute_reply": "2022-11-01T16:46:33.211601Z"
    },
    "papermill": {
     "duration": 0.029299,
     "end_time": "2022-11-01T16:46:33.214825",
     "exception": false,
     "start_time": "2022-11-01T16:46:33.185526",
     "status": "completed"
    },
    "tags": []
   },
   "outputs": [],
   "source": [
    "cluster_centers = pd.DataFrame(data =kmeans.cluster_centers_ , columns =[creditcard_df.columns]  )\n"
   ]
  },
  {
   "cell_type": "code",
   "execution_count": 28,
   "id": "3cd076d5",
   "metadata": {
    "execution": {
     "iopub.execute_input": "2022-11-01T16:46:33.252820Z",
     "iopub.status.busy": "2022-11-01T16:46:33.252429Z",
     "iopub.status.idle": "2022-11-01T16:46:33.280126Z",
     "shell.execute_reply": "2022-11-01T16:46:33.279028Z"
    },
    "papermill": {
     "duration": 0.049586,
     "end_time": "2022-11-01T16:46:33.282662",
     "exception": false,
     "start_time": "2022-11-01T16:46:33.233076",
     "status": "completed"
    },
    "tags": []
   },
   "outputs": [
    {
     "data": {
      "text/html": [
       "<div>\n",
       "<style scoped>\n",
       "    .dataframe tbody tr th:only-of-type {\n",
       "        vertical-align: middle;\n",
       "    }\n",
       "\n",
       "    .dataframe tbody tr th {\n",
       "        vertical-align: top;\n",
       "    }\n",
       "\n",
       "    .dataframe thead tr th {\n",
       "        text-align: left;\n",
       "    }\n",
       "</style>\n",
       "<table border=\"1\" class=\"dataframe\">\n",
       "  <thead>\n",
       "    <tr>\n",
       "      <th></th>\n",
       "      <th>BALANCE</th>\n",
       "      <th>BALANCE_FREQUENCY</th>\n",
       "      <th>PURCHASES</th>\n",
       "      <th>ONEOFF_PURCHASES</th>\n",
       "      <th>INSTALLMENTS_PURCHASES</th>\n",
       "      <th>CASH_ADVANCE</th>\n",
       "      <th>PURCHASES_FREQUENCY</th>\n",
       "      <th>ONEOFF_PURCHASES_FREQUENCY</th>\n",
       "      <th>PURCHASES_INSTALLMENTS_FREQUENCY</th>\n",
       "      <th>CASH_ADVANCE_FREQUENCY</th>\n",
       "      <th>CASH_ADVANCE_TRX</th>\n",
       "      <th>PURCHASES_TRX</th>\n",
       "      <th>CREDIT_LIMIT</th>\n",
       "      <th>PAYMENTS</th>\n",
       "      <th>MINIMUM_PAYMENTS</th>\n",
       "      <th>PRC_FULL_PAYMENT</th>\n",
       "      <th>TENURE</th>\n",
       "    </tr>\n",
       "  </thead>\n",
       "  <tbody>\n",
       "    <tr>\n",
       "      <th>0</th>\n",
       "      <td>1.666473</td>\n",
       "      <td>0.392099</td>\n",
       "      <td>-0.205327</td>\n",
       "      <td>-0.149913</td>\n",
       "      <td>-0.210162</td>\n",
       "      <td>1.990753</td>\n",
       "      <td>-0.456789</td>\n",
       "      <td>-0.190269</td>\n",
       "      <td>-0.404044</td>\n",
       "      <td>1.908547</td>\n",
       "      <td>1.922104</td>\n",
       "      <td>-0.241414</td>\n",
       "      <td>1.007640</td>\n",
       "      <td>0.834821</td>\n",
       "      <td>0.552973</td>\n",
       "      <td>-0.391161</td>\n",
       "      <td>0.069807</td>\n",
       "    </tr>\n",
       "    <tr>\n",
       "      <th>1</th>\n",
       "      <td>0.126801</td>\n",
       "      <td>0.429730</td>\n",
       "      <td>0.939029</td>\n",
       "      <td>0.895888</td>\n",
       "      <td>0.574411</td>\n",
       "      <td>-0.309125</td>\n",
       "      <td>1.092770</td>\n",
       "      <td>1.872513</td>\n",
       "      <td>0.534806</td>\n",
       "      <td>-0.410394</td>\n",
       "      <td>-0.320751</td>\n",
       "      <td>1.196848</td>\n",
       "      <td>0.701750</td>\n",
       "      <td>0.385048</td>\n",
       "      <td>-0.057462</td>\n",
       "      <td>0.456446</td>\n",
       "      <td>0.307642</td>\n",
       "    </tr>\n",
       "    <tr>\n",
       "      <th>2</th>\n",
       "      <td>-0.335506</td>\n",
       "      <td>-0.348076</td>\n",
       "      <td>-0.284525</td>\n",
       "      <td>-0.208973</td>\n",
       "      <td>-0.288475</td>\n",
       "      <td>0.065539</td>\n",
       "      <td>-0.198735</td>\n",
       "      <td>-0.272572</td>\n",
       "      <td>-0.230755</td>\n",
       "      <td>0.304112</td>\n",
       "      <td>-0.002216</td>\n",
       "      <td>-0.385586</td>\n",
       "      <td>-0.558657</td>\n",
       "      <td>-0.390701</td>\n",
       "      <td>-0.209383</td>\n",
       "      <td>0.012899</td>\n",
       "      <td>-3.193765</td>\n",
       "    </tr>\n",
       "    <tr>\n",
       "      <th>3</th>\n",
       "      <td>1.430238</td>\n",
       "      <td>0.419467</td>\n",
       "      <td>6.915048</td>\n",
       "      <td>6.083034</td>\n",
       "      <td>5.172266</td>\n",
       "      <td>0.038778</td>\n",
       "      <td>1.090699</td>\n",
       "      <td>1.879303</td>\n",
       "      <td>1.049413</td>\n",
       "      <td>-0.249227</td>\n",
       "      <td>-0.038166</td>\n",
       "      <td>4.646228</td>\n",
       "      <td>2.198324</td>\n",
       "      <td>4.783704</td>\n",
       "      <td>1.080945</td>\n",
       "      <td>0.824001</td>\n",
       "      <td>0.334613</td>\n",
       "    </tr>\n",
       "    <tr>\n",
       "      <th>4</th>\n",
       "      <td>-0.701872</td>\n",
       "      <td>-2.134325</td>\n",
       "      <td>-0.306924</td>\n",
       "      <td>-0.230292</td>\n",
       "      <td>-0.302515</td>\n",
       "      <td>-0.323078</td>\n",
       "      <td>-0.547138</td>\n",
       "      <td>-0.427951</td>\n",
       "      <td>-0.441452</td>\n",
       "      <td>-0.522249</td>\n",
       "      <td>-0.376815</td>\n",
       "      <td>-0.416568</td>\n",
       "      <td>-0.172588</td>\n",
       "      <td>-0.201746</td>\n",
       "      <td>-0.257554</td>\n",
       "      <td>0.295010</td>\n",
       "      <td>0.200781</td>\n",
       "    </tr>\n",
       "    <tr>\n",
       "      <th>5</th>\n",
       "      <td>-0.367555</td>\n",
       "      <td>0.330562</td>\n",
       "      <td>-0.039840</td>\n",
       "      <td>-0.234950</td>\n",
       "      <td>0.337266</td>\n",
       "      <td>-0.368099</td>\n",
       "      <td>0.980609</td>\n",
       "      <td>-0.357343</td>\n",
       "      <td>1.173200</td>\n",
       "      <td>-0.477687</td>\n",
       "      <td>-0.362424</td>\n",
       "      <td>0.173897</td>\n",
       "      <td>-0.278076</td>\n",
       "      <td>-0.221810</td>\n",
       "      <td>-0.015735</td>\n",
       "      <td>0.307237</td>\n",
       "      <td>0.252156</td>\n",
       "    </tr>\n",
       "    <tr>\n",
       "      <th>6</th>\n",
       "      <td>0.007813</td>\n",
       "      <td>0.402983</td>\n",
       "      <td>-0.343915</td>\n",
       "      <td>-0.225214</td>\n",
       "      <td>-0.399316</td>\n",
       "      <td>-0.104212</td>\n",
       "      <td>-0.810261</td>\n",
       "      <td>-0.336386</td>\n",
       "      <td>-0.752275</td>\n",
       "      <td>0.084852</td>\n",
       "      <td>-0.041723</td>\n",
       "      <td>-0.464616</td>\n",
       "      <td>-0.300873</td>\n",
       "      <td>-0.248908</td>\n",
       "      <td>-0.015791</td>\n",
       "      <td>-0.452844</td>\n",
       "      <td>0.272305</td>\n",
       "    </tr>\n",
       "  </tbody>\n",
       "</table>\n",
       "</div>"
      ],
      "text/plain": [
       "    BALANCE BALANCE_FREQUENCY PURCHASES ONEOFF_PURCHASES  \\\n",
       "0  1.666473          0.392099 -0.205327        -0.149913   \n",
       "1  0.126801          0.429730  0.939029         0.895888   \n",
       "2 -0.335506         -0.348076 -0.284525        -0.208973   \n",
       "3  1.430238          0.419467  6.915048         6.083034   \n",
       "4 -0.701872         -2.134325 -0.306924        -0.230292   \n",
       "5 -0.367555          0.330562 -0.039840        -0.234950   \n",
       "6  0.007813          0.402983 -0.343915        -0.225214   \n",
       "\n",
       "  INSTALLMENTS_PURCHASES CASH_ADVANCE PURCHASES_FREQUENCY  \\\n",
       "0              -0.210162     1.990753           -0.456789   \n",
       "1               0.574411    -0.309125            1.092770   \n",
       "2              -0.288475     0.065539           -0.198735   \n",
       "3               5.172266     0.038778            1.090699   \n",
       "4              -0.302515    -0.323078           -0.547138   \n",
       "5               0.337266    -0.368099            0.980609   \n",
       "6              -0.399316    -0.104212           -0.810261   \n",
       "\n",
       "  ONEOFF_PURCHASES_FREQUENCY PURCHASES_INSTALLMENTS_FREQUENCY  \\\n",
       "0                  -0.190269                        -0.404044   \n",
       "1                   1.872513                         0.534806   \n",
       "2                  -0.272572                        -0.230755   \n",
       "3                   1.879303                         1.049413   \n",
       "4                  -0.427951                        -0.441452   \n",
       "5                  -0.357343                         1.173200   \n",
       "6                  -0.336386                        -0.752275   \n",
       "\n",
       "  CASH_ADVANCE_FREQUENCY CASH_ADVANCE_TRX PURCHASES_TRX CREDIT_LIMIT  \\\n",
       "0               1.908547         1.922104     -0.241414     1.007640   \n",
       "1              -0.410394        -0.320751      1.196848     0.701750   \n",
       "2               0.304112        -0.002216     -0.385586    -0.558657   \n",
       "3              -0.249227        -0.038166      4.646228     2.198324   \n",
       "4              -0.522249        -0.376815     -0.416568    -0.172588   \n",
       "5              -0.477687        -0.362424      0.173897    -0.278076   \n",
       "6               0.084852        -0.041723     -0.464616    -0.300873   \n",
       "\n",
       "   PAYMENTS MINIMUM_PAYMENTS PRC_FULL_PAYMENT    TENURE  \n",
       "0  0.834821         0.552973        -0.391161  0.069807  \n",
       "1  0.385048        -0.057462         0.456446  0.307642  \n",
       "2 -0.390701        -0.209383         0.012899 -3.193765  \n",
       "3  4.783704         1.080945         0.824001  0.334613  \n",
       "4 -0.201746        -0.257554         0.295010  0.200781  \n",
       "5 -0.221810        -0.015735         0.307237  0.252156  \n",
       "6 -0.248908        -0.015791        -0.452844  0.272305  "
      ]
     },
     "execution_count": 28,
     "metadata": {},
     "output_type": "execute_result"
    }
   ],
   "source": [
    "cluster_centers "
   ]
  },
  {
   "cell_type": "code",
   "execution_count": 29,
   "id": "a6e450aa",
   "metadata": {
    "execution": {
     "iopub.execute_input": "2022-11-01T16:46:33.322530Z",
     "iopub.status.busy": "2022-11-01T16:46:33.322129Z",
     "iopub.status.idle": "2022-11-01T16:46:33.353492Z",
     "shell.execute_reply": "2022-11-01T16:46:33.352440Z"
    },
    "papermill": {
     "duration": 0.053557,
     "end_time": "2022-11-01T16:46:33.355815",
     "exception": false,
     "start_time": "2022-11-01T16:46:33.302258",
     "status": "completed"
    },
    "tags": []
   },
   "outputs": [
    {
     "data": {
      "text/html": [
       "<div>\n",
       "<style scoped>\n",
       "    .dataframe tbody tr th:only-of-type {\n",
       "        vertical-align: middle;\n",
       "    }\n",
       "\n",
       "    .dataframe tbody tr th {\n",
       "        vertical-align: top;\n",
       "    }\n",
       "\n",
       "    .dataframe thead tr th {\n",
       "        text-align: left;\n",
       "    }\n",
       "</style>\n",
       "<table border=\"1\" class=\"dataframe\">\n",
       "  <thead>\n",
       "    <tr>\n",
       "      <th></th>\n",
       "      <th>BALANCE</th>\n",
       "      <th>BALANCE_FREQUENCY</th>\n",
       "      <th>PURCHASES</th>\n",
       "      <th>ONEOFF_PURCHASES</th>\n",
       "      <th>INSTALLMENTS_PURCHASES</th>\n",
       "      <th>CASH_ADVANCE</th>\n",
       "      <th>PURCHASES_FREQUENCY</th>\n",
       "      <th>ONEOFF_PURCHASES_FREQUENCY</th>\n",
       "      <th>PURCHASES_INSTALLMENTS_FREQUENCY</th>\n",
       "      <th>CASH_ADVANCE_FREQUENCY</th>\n",
       "      <th>CASH_ADVANCE_TRX</th>\n",
       "      <th>PURCHASES_TRX</th>\n",
       "      <th>CREDIT_LIMIT</th>\n",
       "      <th>PAYMENTS</th>\n",
       "      <th>MINIMUM_PAYMENTS</th>\n",
       "      <th>PRC_FULL_PAYMENT</th>\n",
       "      <th>TENURE</th>\n",
       "    </tr>\n",
       "  </thead>\n",
       "  <tbody>\n",
       "    <tr>\n",
       "      <th>0</th>\n",
       "      <td>5033.096672</td>\n",
       "      <td>0.970155</td>\n",
       "      <td>564.520447</td>\n",
       "      <td>343.613277</td>\n",
       "      <td>221.020895</td>\n",
       "      <td>5153.573564</td>\n",
       "      <td>0.307019</td>\n",
       "      <td>0.145697</td>\n",
       "      <td>0.203860</td>\n",
       "      <td>0.517064</td>\n",
       "      <td>16.365772</td>\n",
       "      <td>8.709172</td>\n",
       "      <td>8160.463697</td>\n",
       "      <td>4149.870001</td>\n",
       "      <td>2152.885952</td>\n",
       "      <td>0.039307</td>\n",
       "      <td>11.610738</td>\n",
       "    </tr>\n",
       "    <tr>\n",
       "      <th>1</th>\n",
       "      <td>1828.399674</td>\n",
       "      <td>0.979070</td>\n",
       "      <td>3009.455142</td>\n",
       "      <td>2079.427650</td>\n",
       "      <td>930.500678</td>\n",
       "      <td>330.620880</td>\n",
       "      <td>0.928932</td>\n",
       "      <td>0.761065</td>\n",
       "      <td>0.576983</td>\n",
       "      <td>0.053020</td>\n",
       "      <td>1.059937</td>\n",
       "      <td>44.458991</td>\n",
       "      <td>7047.418985</td>\n",
       "      <td>2847.821449</td>\n",
       "      <td>730.293998</td>\n",
       "      <td>0.287217</td>\n",
       "      <td>11.929022</td>\n",
       "    </tr>\n",
       "    <tr>\n",
       "      <th>2</th>\n",
       "      <td>866.148306</td>\n",
       "      <td>0.794815</td>\n",
       "      <td>395.311749</td>\n",
       "      <td>245.585564</td>\n",
       "      <td>150.203132</td>\n",
       "      <td>1116.308792</td>\n",
       "      <td>0.410589</td>\n",
       "      <td>0.121144</td>\n",
       "      <td>0.272729</td>\n",
       "      <td>0.196000</td>\n",
       "      <td>3.233704</td>\n",
       "      <td>5.125596</td>\n",
       "      <td>2461.160572</td>\n",
       "      <td>602.104087</td>\n",
       "      <td>376.247870</td>\n",
       "      <td>0.157487</td>\n",
       "      <td>7.243243</td>\n",
       "    </tr>\n",
       "    <tr>\n",
       "      <th>3</th>\n",
       "      <td>4541.393882</td>\n",
       "      <td>0.976638</td>\n",
       "      <td>15777.311395</td>\n",
       "      <td>10689.027791</td>\n",
       "      <td>5088.283605</td>\n",
       "      <td>1060.190695</td>\n",
       "      <td>0.928101</td>\n",
       "      <td>0.763090</td>\n",
       "      <td>0.781501</td>\n",
       "      <td>0.085271</td>\n",
       "      <td>2.988372</td>\n",
       "      <td>130.197674</td>\n",
       "      <td>12493.023256</td>\n",
       "      <td>15581.496801</td>\n",
       "      <td>3383.304083</td>\n",
       "      <td>0.394721</td>\n",
       "      <td>11.965116</td>\n",
       "    </tr>\n",
       "    <tr>\n",
       "      <th>4</th>\n",
       "      <td>103.587241</td>\n",
       "      <td>0.371669</td>\n",
       "      <td>347.456361</td>\n",
       "      <td>210.199629</td>\n",
       "      <td>137.506773</td>\n",
       "      <td>301.361116</td>\n",
       "      <td>0.270757</td>\n",
       "      <td>0.074792</td>\n",
       "      <td>0.188993</td>\n",
       "      <td>0.030637</td>\n",
       "      <td>0.677338</td>\n",
       "      <td>4.355518</td>\n",
       "      <td>3865.955724</td>\n",
       "      <td>1149.108580</td>\n",
       "      <td>263.988609</td>\n",
       "      <td>0.240000</td>\n",
       "      <td>11.786015</td>\n",
       "    </tr>\n",
       "    <tr>\n",
       "      <th>5</th>\n",
       "      <td>799.439665</td>\n",
       "      <td>0.955578</td>\n",
       "      <td>918.085545</td>\n",
       "      <td>202.468866</td>\n",
       "      <td>716.053491</td>\n",
       "      <td>206.951098</td>\n",
       "      <td>0.883916</td>\n",
       "      <td>0.095855</td>\n",
       "      <td>0.830697</td>\n",
       "      <td>0.039554</td>\n",
       "      <td>0.775550</td>\n",
       "      <td>19.032274</td>\n",
       "      <td>3482.112568</td>\n",
       "      <td>1091.026929</td>\n",
       "      <td>827.537625</td>\n",
       "      <td>0.243576</td>\n",
       "      <td>11.854768</td>\n",
       "    </tr>\n",
       "    <tr>\n",
       "      <th>6</th>\n",
       "      <td>1580.736068</td>\n",
       "      <td>0.972734</td>\n",
       "      <td>268.425678</td>\n",
       "      <td>218.628807</td>\n",
       "      <td>49.971063</td>\n",
       "      <td>760.334088</td>\n",
       "      <td>0.165154</td>\n",
       "      <td>0.102107</td>\n",
       "      <td>0.065464</td>\n",
       "      <td>0.152124</td>\n",
       "      <td>2.964097</td>\n",
       "      <td>3.161211</td>\n",
       "      <td>3399.161094</td>\n",
       "      <td>1012.580763</td>\n",
       "      <td>827.406808</td>\n",
       "      <td>0.021266</td>\n",
       "      <td>11.881732</td>\n",
       "    </tr>\n",
       "  </tbody>\n",
       "</table>\n",
       "</div>"
      ],
      "text/plain": [
       "       BALANCE BALANCE_FREQUENCY     PURCHASES ONEOFF_PURCHASES  \\\n",
       "0  5033.096672          0.970155    564.520447       343.613277   \n",
       "1  1828.399674          0.979070   3009.455142      2079.427650   \n",
       "2   866.148306          0.794815    395.311749       245.585564   \n",
       "3  4541.393882          0.976638  15777.311395     10689.027791   \n",
       "4   103.587241          0.371669    347.456361       210.199629   \n",
       "5   799.439665          0.955578    918.085545       202.468866   \n",
       "6  1580.736068          0.972734    268.425678       218.628807   \n",
       "\n",
       "  INSTALLMENTS_PURCHASES CASH_ADVANCE PURCHASES_FREQUENCY  \\\n",
       "0             221.020895  5153.573564            0.307019   \n",
       "1             930.500678   330.620880            0.928932   \n",
       "2             150.203132  1116.308792            0.410589   \n",
       "3            5088.283605  1060.190695            0.928101   \n",
       "4             137.506773   301.361116            0.270757   \n",
       "5             716.053491   206.951098            0.883916   \n",
       "6              49.971063   760.334088            0.165154   \n",
       "\n",
       "  ONEOFF_PURCHASES_FREQUENCY PURCHASES_INSTALLMENTS_FREQUENCY  \\\n",
       "0                   0.145697                         0.203860   \n",
       "1                   0.761065                         0.576983   \n",
       "2                   0.121144                         0.272729   \n",
       "3                   0.763090                         0.781501   \n",
       "4                   0.074792                         0.188993   \n",
       "5                   0.095855                         0.830697   \n",
       "6                   0.102107                         0.065464   \n",
       "\n",
       "  CASH_ADVANCE_FREQUENCY CASH_ADVANCE_TRX PURCHASES_TRX  CREDIT_LIMIT  \\\n",
       "0               0.517064        16.365772      8.709172   8160.463697   \n",
       "1               0.053020         1.059937     44.458991   7047.418985   \n",
       "2               0.196000         3.233704      5.125596   2461.160572   \n",
       "3               0.085271         2.988372    130.197674  12493.023256   \n",
       "4               0.030637         0.677338      4.355518   3865.955724   \n",
       "5               0.039554         0.775550     19.032274   3482.112568   \n",
       "6               0.152124         2.964097      3.161211   3399.161094   \n",
       "\n",
       "       PAYMENTS MINIMUM_PAYMENTS PRC_FULL_PAYMENT     TENURE  \n",
       "0   4149.870001      2152.885952         0.039307  11.610738  \n",
       "1   2847.821449       730.293998         0.287217  11.929022  \n",
       "2    602.104087       376.247870         0.157487   7.243243  \n",
       "3  15581.496801      3383.304083         0.394721  11.965116  \n",
       "4   1149.108580       263.988609         0.240000  11.786015  \n",
       "5   1091.026929       827.537625         0.243576  11.854768  \n",
       "6   1012.580763       827.406808         0.021266  11.881732  "
      ]
     },
     "execution_count": 29,
     "metadata": {},
     "output_type": "execute_result"
    }
   ],
   "source": [
    "#in order to understand what these numbers are means lets perform inverse transformation\n",
    "cluster_centers = scaler.inverse_transform(cluster_centers)\n",
    "cluster_centers = pd.DataFrame(data = cluster_centers, columns =[creditcard_df.columns]  )\n",
    "cluster_centers"
   ]
  },
  {
   "cell_type": "code",
   "execution_count": 30,
   "id": "11fd119a",
   "metadata": {
    "execution": {
     "iopub.execute_input": "2022-11-01T16:46:33.396739Z",
     "iopub.status.busy": "2022-11-01T16:46:33.395513Z",
     "iopub.status.idle": "2022-11-01T16:46:33.403928Z",
     "shell.execute_reply": "2022-11-01T16:46:33.403063Z"
    },
    "papermill": {
     "duration": 0.031366,
     "end_time": "2022-11-01T16:46:33.406071",
     "exception": false,
     "start_time": "2022-11-01T16:46:33.374705",
     "status": "completed"
    },
    "tags": []
   },
   "outputs": [
    {
     "data": {
      "text/plain": [
       "(8950,)"
      ]
     },
     "execution_count": 30,
     "metadata": {},
     "output_type": "execute_result"
    }
   ],
   "source": [
    "labels.shape"
   ]
  },
  {
   "cell_type": "code",
   "execution_count": 31,
   "id": "a0704d22",
   "metadata": {
    "execution": {
     "iopub.execute_input": "2022-11-01T16:46:33.445862Z",
     "iopub.status.busy": "2022-11-01T16:46:33.445122Z",
     "iopub.status.idle": "2022-11-01T16:46:35.094253Z",
     "shell.execute_reply": "2022-11-01T16:46:35.093226Z"
    },
    "papermill": {
     "duration": 1.672054,
     "end_time": "2022-11-01T16:46:35.096852",
     "exception": false,
     "start_time": "2022-11-01T16:46:33.424798",
     "status": "completed"
    },
    "tags": []
   },
   "outputs": [
    {
     "data": {
      "text/plain": [
       "array([2, 6, 0, ..., 5, 2, 4], dtype=int32)"
      ]
     },
     "execution_count": 31,
     "metadata": {},
     "output_type": "execute_result"
    }
   ],
   "source": [
    "y_kmeans = kmeans.fit_predict(creditcard_df_scaled)\n",
    "y_kmeans"
   ]
  },
  {
   "cell_type": "code",
   "execution_count": 32,
   "id": "d803831b",
   "metadata": {
    "execution": {
     "iopub.execute_input": "2022-11-01T16:46:35.139701Z",
     "iopub.status.busy": "2022-11-01T16:46:35.139263Z",
     "iopub.status.idle": "2022-11-01T16:46:35.167660Z",
     "shell.execute_reply": "2022-11-01T16:46:35.166602Z"
    },
    "papermill": {
     "duration": 0.051917,
     "end_time": "2022-11-01T16:46:35.170027",
     "exception": false,
     "start_time": "2022-11-01T16:46:35.118110",
     "status": "completed"
    },
    "tags": []
   },
   "outputs": [
    {
     "data": {
      "text/html": [
       "<div>\n",
       "<style scoped>\n",
       "    .dataframe tbody tr th:only-of-type {\n",
       "        vertical-align: middle;\n",
       "    }\n",
       "\n",
       "    .dataframe tbody tr th {\n",
       "        vertical-align: top;\n",
       "    }\n",
       "\n",
       "    .dataframe thead th {\n",
       "        text-align: right;\n",
       "    }\n",
       "</style>\n",
       "<table border=\"1\" class=\"dataframe\">\n",
       "  <thead>\n",
       "    <tr style=\"text-align: right;\">\n",
       "      <th></th>\n",
       "      <th>BALANCE</th>\n",
       "      <th>BALANCE_FREQUENCY</th>\n",
       "      <th>PURCHASES</th>\n",
       "      <th>ONEOFF_PURCHASES</th>\n",
       "      <th>INSTALLMENTS_PURCHASES</th>\n",
       "      <th>CASH_ADVANCE</th>\n",
       "      <th>PURCHASES_FREQUENCY</th>\n",
       "      <th>ONEOFF_PURCHASES_FREQUENCY</th>\n",
       "      <th>PURCHASES_INSTALLMENTS_FREQUENCY</th>\n",
       "      <th>CASH_ADVANCE_FREQUENCY</th>\n",
       "      <th>CASH_ADVANCE_TRX</th>\n",
       "      <th>PURCHASES_TRX</th>\n",
       "      <th>CREDIT_LIMIT</th>\n",
       "      <th>PAYMENTS</th>\n",
       "      <th>MINIMUM_PAYMENTS</th>\n",
       "      <th>PRC_FULL_PAYMENT</th>\n",
       "      <th>TENURE</th>\n",
       "      <th>cluster</th>\n",
       "    </tr>\n",
       "  </thead>\n",
       "  <tbody>\n",
       "    <tr>\n",
       "      <th>0</th>\n",
       "      <td>40.900749</td>\n",
       "      <td>0.818182</td>\n",
       "      <td>95.40</td>\n",
       "      <td>0.00</td>\n",
       "      <td>95.4</td>\n",
       "      <td>0.000000</td>\n",
       "      <td>0.166667</td>\n",
       "      <td>0.000000</td>\n",
       "      <td>0.083333</td>\n",
       "      <td>0.000000</td>\n",
       "      <td>0</td>\n",
       "      <td>2</td>\n",
       "      <td>1000.0</td>\n",
       "      <td>201.802084</td>\n",
       "      <td>139.509787</td>\n",
       "      <td>0.000000</td>\n",
       "      <td>12</td>\n",
       "      <td>6</td>\n",
       "    </tr>\n",
       "    <tr>\n",
       "      <th>1</th>\n",
       "      <td>3202.467416</td>\n",
       "      <td>0.909091</td>\n",
       "      <td>0.00</td>\n",
       "      <td>0.00</td>\n",
       "      <td>0.0</td>\n",
       "      <td>6442.945483</td>\n",
       "      <td>0.000000</td>\n",
       "      <td>0.000000</td>\n",
       "      <td>0.000000</td>\n",
       "      <td>0.250000</td>\n",
       "      <td>4</td>\n",
       "      <td>0</td>\n",
       "      <td>7000.0</td>\n",
       "      <td>4103.032597</td>\n",
       "      <td>1072.340217</td>\n",
       "      <td>0.222222</td>\n",
       "      <td>12</td>\n",
       "      <td>0</td>\n",
       "    </tr>\n",
       "    <tr>\n",
       "      <th>2</th>\n",
       "      <td>2495.148862</td>\n",
       "      <td>1.000000</td>\n",
       "      <td>773.17</td>\n",
       "      <td>773.17</td>\n",
       "      <td>0.0</td>\n",
       "      <td>0.000000</td>\n",
       "      <td>1.000000</td>\n",
       "      <td>1.000000</td>\n",
       "      <td>0.000000</td>\n",
       "      <td>0.000000</td>\n",
       "      <td>0</td>\n",
       "      <td>12</td>\n",
       "      <td>7500.0</td>\n",
       "      <td>622.066742</td>\n",
       "      <td>627.284787</td>\n",
       "      <td>0.000000</td>\n",
       "      <td>12</td>\n",
       "      <td>1</td>\n",
       "    </tr>\n",
       "    <tr>\n",
       "      <th>3</th>\n",
       "      <td>1666.670542</td>\n",
       "      <td>0.636364</td>\n",
       "      <td>1499.00</td>\n",
       "      <td>1499.00</td>\n",
       "      <td>0.0</td>\n",
       "      <td>205.788017</td>\n",
       "      <td>0.083333</td>\n",
       "      <td>0.083333</td>\n",
       "      <td>0.000000</td>\n",
       "      <td>0.083333</td>\n",
       "      <td>1</td>\n",
       "      <td>1</td>\n",
       "      <td>7500.0</td>\n",
       "      <td>0.000000</td>\n",
       "      <td>864.206542</td>\n",
       "      <td>0.000000</td>\n",
       "      <td>12</td>\n",
       "      <td>6</td>\n",
       "    </tr>\n",
       "    <tr>\n",
       "      <th>4</th>\n",
       "      <td>817.714335</td>\n",
       "      <td>1.000000</td>\n",
       "      <td>16.00</td>\n",
       "      <td>16.00</td>\n",
       "      <td>0.0</td>\n",
       "      <td>0.000000</td>\n",
       "      <td>0.083333</td>\n",
       "      <td>0.083333</td>\n",
       "      <td>0.000000</td>\n",
       "      <td>0.000000</td>\n",
       "      <td>0</td>\n",
       "      <td>1</td>\n",
       "      <td>1200.0</td>\n",
       "      <td>678.334763</td>\n",
       "      <td>244.791237</td>\n",
       "      <td>0.000000</td>\n",
       "      <td>12</td>\n",
       "      <td>6</td>\n",
       "    </tr>\n",
       "  </tbody>\n",
       "</table>\n",
       "</div>"
      ],
      "text/plain": [
       "       BALANCE  BALANCE_FREQUENCY  PURCHASES  ONEOFF_PURCHASES  \\\n",
       "0    40.900749           0.818182      95.40              0.00   \n",
       "1  3202.467416           0.909091       0.00              0.00   \n",
       "2  2495.148862           1.000000     773.17            773.17   \n",
       "3  1666.670542           0.636364    1499.00           1499.00   \n",
       "4   817.714335           1.000000      16.00             16.00   \n",
       "\n",
       "   INSTALLMENTS_PURCHASES  CASH_ADVANCE  PURCHASES_FREQUENCY  \\\n",
       "0                    95.4      0.000000             0.166667   \n",
       "1                     0.0   6442.945483             0.000000   \n",
       "2                     0.0      0.000000             1.000000   \n",
       "3                     0.0    205.788017             0.083333   \n",
       "4                     0.0      0.000000             0.083333   \n",
       "\n",
       "   ONEOFF_PURCHASES_FREQUENCY  PURCHASES_INSTALLMENTS_FREQUENCY  \\\n",
       "0                    0.000000                          0.083333   \n",
       "1                    0.000000                          0.000000   \n",
       "2                    1.000000                          0.000000   \n",
       "3                    0.083333                          0.000000   \n",
       "4                    0.083333                          0.000000   \n",
       "\n",
       "   CASH_ADVANCE_FREQUENCY  CASH_ADVANCE_TRX  PURCHASES_TRX  CREDIT_LIMIT  \\\n",
       "0                0.000000                 0              2        1000.0   \n",
       "1                0.250000                 4              0        7000.0   \n",
       "2                0.000000                 0             12        7500.0   \n",
       "3                0.083333                 1              1        7500.0   \n",
       "4                0.000000                 0              1        1200.0   \n",
       "\n",
       "      PAYMENTS  MINIMUM_PAYMENTS  PRC_FULL_PAYMENT  TENURE  cluster  \n",
       "0   201.802084        139.509787          0.000000      12        6  \n",
       "1  4103.032597       1072.340217          0.222222      12        0  \n",
       "2   622.066742        627.284787          0.000000      12        1  \n",
       "3     0.000000        864.206542          0.000000      12        6  \n",
       "4   678.334763        244.791237          0.000000      12        6  "
      ]
     },
     "execution_count": 32,
     "metadata": {},
     "output_type": "execute_result"
    }
   ],
   "source": [
    "#concatnate the cluster label to the orginal data set\n",
    "creditcard_df_cluster = pd.concat([creditcard_df,pd.DataFrame({'cluster':labels})],axis =1 )\n",
    "creditcard_df_cluster.head()"
   ]
  },
  {
   "cell_type": "code",
   "execution_count": 33,
   "id": "6547aadb",
   "metadata": {
    "execution": {
     "iopub.execute_input": "2022-11-01T16:46:35.211708Z",
     "iopub.status.busy": "2022-11-01T16:46:35.210466Z",
     "iopub.status.idle": "2022-11-01T16:46:36.870020Z",
     "shell.execute_reply": "2022-11-01T16:46:36.869170Z"
    },
    "papermill": {
     "duration": 1.682862,
     "end_time": "2022-11-01T16:46:36.872310",
     "exception": false,
     "start_time": "2022-11-01T16:46:35.189448",
     "status": "completed"
    },
    "tags": []
   },
   "outputs": [
    {
     "name": "stderr",
     "output_type": "stream",
     "text": [
      "/opt/conda/lib/python3.7/site-packages/seaborn/distributions.py:2619: FutureWarning: `distplot` is a deprecated function and will be removed in a future version. Please adapt your code to use either `displot` (a figure-level function with similar flexibility) or `histplot` (an axes-level function for histograms).\n",
      "  warnings.warn(msg, FutureWarning)\n"
     ]
    },
    {
     "data": {
      "image/png": "[encoded data removed]",
      "text/plain": [
       "<Figure size 864x360 with 1 Axes>"
      ]
     },
     "metadata": {
      "needs_background": "light"
     },
     "output_type": "display_data"
    },
    {
     "name": "stderr",
     "output_type": "stream",
     "text": [
      "/opt/conda/lib/python3.7/site-packages/seaborn/distributions.py:2619: FutureWarning: `distplot` is a deprecated function and will be removed in a future version. Please adapt your code to use either `displot` (a figure-level function with similar flexibility) or `histplot` (an axes-level function for histograms).\n",
      "  warnings.warn(msg, FutureWarning)\n"
     ]
    },
    {
     "data": {
      "image/png": "[encoded data removed]",
      "text/plain": [
       "<Figure size 864x360 with 1 Axes>"
      ]
     },
     "metadata": {
      "needs_background": "light"
     },
     "output_type": "display_data"
    },
    {
     "name": "stderr",
     "output_type": "stream",
     "text": [
      "/opt/conda/lib/python3.7/site-packages/seaborn/distributions.py:2619: FutureWarning: `distplot` is a deprecated function and will be removed in a future version. Please adapt your code to use either `displot` (a figure-level function with similar flexibility) or `histplot` (an axes-level function for histograms).\n",
      "  warnings.warn(msg, FutureWarning)\n"
     ]
    },
    {
     "data": {
      "image/png": "[encoded data removed]",
      "text/plain": [
       "<Figure size 864x360 with 1 Axes>"
      ]
     },
     "metadata": {
      "needs_background": "light"
     },
     "output_type": "display_data"
    },
    {
     "name": "stderr",
     "output_type": "stream",
     "text": [
      "/opt/conda/lib/python3.7/site-packages/seaborn/distributions.py:2619: FutureWarning: `distplot` is a deprecated function and will be removed in a future version. Please adapt your code to use either `displot` (a figure-level function with similar flexibility) or `histplot` (an axes-level function for histograms).\n",
      "  warnings.warn(msg, FutureWarning)\n"
     ]
    },
    {
     "data": {
      "image/png": "[encoded data removed]",
      "text/plain": [
       "<Figure size 864x360 with 1 Axes>"
      ]
     },
     "metadata": {
      "needs_background": "light"
     },
     "output_type": "display_data"
    },
    {
     "name": "stderr",
     "output_type": "stream",
     "text": [
      "/opt/conda/lib/python3.7/site-packages/seaborn/distributions.py:2619: FutureWarning: `distplot` is a deprecated function and will be removed in a future version. Please adapt your code to use either `displot` (a figure-level function with similar flexibility) or `histplot` (an axes-level function for histograms).\n",
      "  warnings.warn(msg, FutureWarning)\n"
     ]
    },
    {
     "data": {
      "image/png": "[encoded data removed]",
      "text/plain": [
       "<Figure size 864x360 with 1 Axes>"
      ]
     },
     "metadata": {
      "needs_background": "light"
     },
     "output_type": "display_data"
    }
   ],
   "source": [
    "cols_to_plot = [\"PURCHASES\", \"PAYMENTS\", \"BALANCE\", \"ONEOFF_PURCHASES\", \"CREDIT_LIMIT\"]\n",
    "\n",
    "\n",
    "for col in cols_to_plot:\n",
    "    plt.figure(figsize=(12,5))\n",
    "    sns.distplot(creditcard_df_cluster[col])\n",
    "    plt.show()"
   ]
  }
 ],
 "metadata": {
  "kernelspec": {
   "display_name": "Python 3",
   "language": "python",
   "name": "python3"
  },
  "language_info": {
   "codemirror_mode": {
    "name": "ipython",
    "version": 3
   },
   "file_extension": ".py",
   "mimetype": "text/x-python",
   "name": "python",
   "nbconvert_exporter": "python",
   "pygments_lexer": "ipython3",
   "version": "3.7.12"
  },
  "papermill": {
   "default_parameters": {},
   "duration": 58.324045,
   "end_time": "2022-11-01T16:46:37.717201",
   "environment_variables": {},
   "exception": null,
   "input_path": "__notebook__.ipynb",
   "output_path": "__notebook__.ipynb",
   "parameters": {},
   "start_time": "2022-11-01T16:45:39.393156",
   "version": "2.3.4"
  }
 },
 "nbformat": 4,
 "nbformat_minor": 5
}
