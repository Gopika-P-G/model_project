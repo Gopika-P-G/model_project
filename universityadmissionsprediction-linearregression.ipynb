{
 "cells": [
  {
   "cell_type": "code",
   "execution_count": 1,
   "id": "47c532eb",
   "metadata": {
    "_cell_guid": "b1076dfc-b9ad-4769-8c92-a6c4dae69d19",
    "_uuid": "8f2839f25d086af736a60e9eeb907d3b93b6e0e5",
    "execution": {
     "iopub.execute_input": "2022-11-02T01:56:55.102555Z",
     "iopub.status.busy": "2022-11-02T01:56:55.102095Z",
     "iopub.status.idle": "2022-11-02T01:56:56.160610Z",
     "shell.execute_reply": "2022-11-02T01:56:56.159357Z"
    },
    "papermill": {
     "duration": 1.07196,
     "end_time": "2022-11-02T01:56:56.163217",
     "exception": false,
     "start_time": "2022-11-02T01:56:55.091257",
     "status": "completed"
    },
    "tags": []
   },
   "outputs": [
    {
     "name": "stdout",
     "output_type": "stream",
     "text": [
      "/kaggle/input/graduate-admissions/Admission_Predict.csv\n",
      "/kaggle/input/graduate-admissions/Admission_Predict_Ver1.1.csv\n"
     ]
    }
   ],
   "source": [
    "# This Python 3 environment comes with many helpful analytics libraries installed\n",
    "# It is defined by the kaggle/python Docker image: https://github.com/kaggle/docker-python\n",
    "# For example, here's several helpful packages to load\n",
    "\n",
    "import numpy as np # linear algebra\n",
    "import pandas as pd # data processing, CSV file I/O (e.g. pd.read_csv)\n",
    "import seaborn as sns\n",
    "import matplotlib.pyplot as plt\n",
    "# Input data files are available in the read-only \"../input/\" directory\n",
    "# For example, running this (by clicking run or pressing Shift+Enter) will list all files under the input directory\n",
    "\n",
    "import os\n",
    "for dirname, _, filenames in os.walk('/kaggle/input'):\n",
    "    for filename in filenames:\n",
    "        print(os.path.join(dirname, filename))\n",
    "\n",
    "# You can write up to 20GB to the current directory (/kaggle/working/) that gets preserved as output when you create a version using \"Save & Run All\" \n",
    "# You can also write temporary files to /kaggle/temp/, but they won't be saved outside of the current session"
   ]
  },
  {
   "cell_type": "markdown",
   "id": "2aa16f63",
   "metadata": {
    "papermill": {
     "duration": 0.00751,
     "end_time": "2022-11-02T01:56:56.178846",
     "exception": false,
     "start_time": "2022-11-02T01:56:56.171336",
     "status": "completed"
    },
    "tags": []
   },
   "source": [
    "# problem statement \n",
    "predict the chance of student getting in to a particular university based on the student profile"
   ]
  },
  {
   "cell_type": "code",
   "execution_count": 2,
   "id": "c3fb2d3f",
   "metadata": {
    "execution": {
     "iopub.execute_input": "2022-11-02T01:56:56.196708Z",
     "iopub.status.busy": "2022-11-02T01:56:56.195686Z",
     "iopub.status.idle": "2022-11-02T01:56:56.235446Z",
     "shell.execute_reply": "2022-11-02T01:56:56.234255Z"
    },
    "papermill": {
     "duration": 0.051305,
     "end_time": "2022-11-02T01:56:56.237904",
     "exception": false,
     "start_time": "2022-11-02T01:56:56.186599",
     "status": "completed"
    },
    "tags": []
   },
   "outputs": [
    {
     "data": {
      "text/html": [
       "<div>\n",
       "<style scoped>\n",
       "    .dataframe tbody tr th:only-of-type {\n",
       "        vertical-align: middle;\n",
       "    }\n",
       "\n",
       "    .dataframe tbody tr th {\n",
       "        vertical-align: top;\n",
       "    }\n",
       "\n",
       "    .dataframe thead th {\n",
       "        text-align: right;\n",
       "    }\n",
       "</style>\n",
       "<table border=\"1\" class=\"dataframe\">\n",
       "  <thead>\n",
       "    <tr style=\"text-align: right;\">\n",
       "      <th></th>\n",
       "      <th>Serial No.</th>\n",
       "      <th>GRE Score</th>\n",
       "      <th>TOEFL Score</th>\n",
       "      <th>University Rating</th>\n",
       "      <th>SOP</th>\n",
       "      <th>LOR</th>\n",
       "      <th>CGPA</th>\n",
       "      <th>Research</th>\n",
       "      <th>Chance of Admit</th>\n",
       "    </tr>\n",
       "  </thead>\n",
       "  <tbody>\n",
       "    <tr>\n",
       "      <th>0</th>\n",
       "      <td>1</td>\n",
       "      <td>337</td>\n",
       "      <td>118</td>\n",
       "      <td>4</td>\n",
       "      <td>4.5</td>\n",
       "      <td>4.5</td>\n",
       "      <td>9.65</td>\n",
       "      <td>1</td>\n",
       "      <td>0.92</td>\n",
       "    </tr>\n",
       "    <tr>\n",
       "      <th>1</th>\n",
       "      <td>2</td>\n",
       "      <td>324</td>\n",
       "      <td>107</td>\n",
       "      <td>4</td>\n",
       "      <td>4.0</td>\n",
       "      <td>4.5</td>\n",
       "      <td>8.87</td>\n",
       "      <td>1</td>\n",
       "      <td>0.76</td>\n",
       "    </tr>\n",
       "    <tr>\n",
       "      <th>2</th>\n",
       "      <td>3</td>\n",
       "      <td>316</td>\n",
       "      <td>104</td>\n",
       "      <td>3</td>\n",
       "      <td>3.0</td>\n",
       "      <td>3.5</td>\n",
       "      <td>8.00</td>\n",
       "      <td>1</td>\n",
       "      <td>0.72</td>\n",
       "    </tr>\n",
       "    <tr>\n",
       "      <th>3</th>\n",
       "      <td>4</td>\n",
       "      <td>322</td>\n",
       "      <td>110</td>\n",
       "      <td>3</td>\n",
       "      <td>3.5</td>\n",
       "      <td>2.5</td>\n",
       "      <td>8.67</td>\n",
       "      <td>1</td>\n",
       "      <td>0.80</td>\n",
       "    </tr>\n",
       "    <tr>\n",
       "      <th>4</th>\n",
       "      <td>5</td>\n",
       "      <td>314</td>\n",
       "      <td>103</td>\n",
       "      <td>2</td>\n",
       "      <td>2.0</td>\n",
       "      <td>3.0</td>\n",
       "      <td>8.21</td>\n",
       "      <td>0</td>\n",
       "      <td>0.65</td>\n",
       "    </tr>\n",
       "  </tbody>\n",
       "</table>\n",
       "</div>"
      ],
      "text/plain": [
       "   Serial No.  GRE Score  TOEFL Score  University Rating  SOP  LOR   CGPA  \\\n",
       "0           1        337          118                  4  4.5   4.5  9.65   \n",
       "1           2        324          107                  4  4.0   4.5  8.87   \n",
       "2           3        316          104                  3  3.0   3.5  8.00   \n",
       "3           4        322          110                  3  3.5   2.5  8.67   \n",
       "4           5        314          103                  2  2.0   3.0  8.21   \n",
       "\n",
       "   Research  Chance of Admit   \n",
       "0         1              0.92  \n",
       "1         1              0.76  \n",
       "2         1              0.72  \n",
       "3         1              0.80  \n",
       "4         0              0.65  "
      ]
     },
     "execution_count": 2,
     "metadata": {},
     "output_type": "execute_result"
    }
   ],
   "source": [
    "admission_df = pd.read_csv(\"/kaggle/input/graduate-admissions/Admission_Predict.csv\")\n",
    "admission_df.head()"
   ]
  },
  {
   "cell_type": "code",
   "execution_count": 3,
   "id": "093a7cd8",
   "metadata": {
    "execution": {
     "iopub.execute_input": "2022-11-02T01:56:56.256212Z",
     "iopub.status.busy": "2022-11-02T01:56:56.255390Z",
     "iopub.status.idle": "2022-11-02T01:56:56.266710Z",
     "shell.execute_reply": "2022-11-02T01:56:56.265666Z"
    },
    "papermill": {
     "duration": 0.02324,
     "end_time": "2022-11-02T01:56:56.269279",
     "exception": false,
     "start_time": "2022-11-02T01:56:56.246039",
     "status": "completed"
    },
    "tags": []
   },
   "outputs": [],
   "source": [
    "#drop the serial num\n",
    "\n",
    "admission_df.drop('Serial No.', axis=1, inplace=True)"
   ]
  },
  {
   "cell_type": "markdown",
   "id": "9d8bd07f",
   "metadata": {
    "papermill": {
     "duration": 0.00759,
     "end_time": "2022-11-02T01:56:56.284907",
     "exception": false,
     "start_time": "2022-11-02T01:56:56.277317",
     "status": "completed"
    },
    "tags": []
   },
   "source": [
    "# Exploratory Data Analysis"
   ]
  },
  {
   "cell_type": "code",
   "execution_count": 4,
   "id": "023680eb",
   "metadata": {
    "execution": {
     "iopub.execute_input": "2022-11-02T01:56:56.304292Z",
     "iopub.status.busy": "2022-11-02T01:56:56.303471Z",
     "iopub.status.idle": "2022-11-02T01:56:56.312621Z",
     "shell.execute_reply": "2022-11-02T01:56:56.311716Z"
    },
    "papermill": {
     "duration": 0.020568,
     "end_time": "2022-11-02T01:56:56.314807",
     "exception": false,
     "start_time": "2022-11-02T01:56:56.294239",
     "status": "completed"
    },
    "tags": []
   },
   "outputs": [
    {
     "data": {
      "text/plain": [
       "GRE Score            0\n",
       "TOEFL Score          0\n",
       "University Rating    0\n",
       "SOP                  0\n",
       "LOR                  0\n",
       "CGPA                 0\n",
       "Research             0\n",
       "Chance of Admit      0\n",
       "dtype: int64"
      ]
     },
     "execution_count": 4,
     "metadata": {},
     "output_type": "execute_result"
    }
   ],
   "source": [
    "#check for null value\n",
    "admission_df.isnull().sum()"
   ]
  },
  {
   "cell_type": "code",
   "execution_count": 5,
   "id": "74517de8",
   "metadata": {
    "execution": {
     "iopub.execute_input": "2022-11-02T01:56:56.333197Z",
     "iopub.status.busy": "2022-11-02T01:56:56.332387Z",
     "iopub.status.idle": "2022-11-02T01:56:56.352052Z",
     "shell.execute_reply": "2022-11-02T01:56:56.350832Z"
    },
    "papermill": {
     "duration": 0.031784,
     "end_time": "2022-11-02T01:56:56.354566",
     "exception": false,
     "start_time": "2022-11-02T01:56:56.322782",
     "status": "completed"
    },
    "tags": []
   },
   "outputs": [
    {
     "name": "stdout",
     "output_type": "stream",
     "text": [
      "<class 'pandas.core.frame.DataFrame'>\n",
      "RangeIndex: 400 entries, 0 to 399\n",
      "Data columns (total 8 columns):\n",
      " #   Column             Non-Null Count  Dtype  \n",
      "---  ------             --------------  -----  \n",
      " 0   GRE Score          400 non-null    int64  \n",
      " 1   TOEFL Score        400 non-null    int64  \n",
      " 2   University Rating  400 non-null    int64  \n",
      " 3   SOP                400 non-null    float64\n",
      " 4   LOR                400 non-null    float64\n",
      " 5   CGPA               400 non-null    float64\n",
      " 6   Research           400 non-null    int64  \n",
      " 7   Chance of Admit    400 non-null    float64\n",
      "dtypes: float64(4), int64(4)\n",
      "memory usage: 25.1 KB\n"
     ]
    }
   ],
   "source": [
    "#check dataframe info\n",
    "admission_df.info()"
   ]
  },
  {
   "cell_type": "code",
   "execution_count": 6,
   "id": "64465db8",
   "metadata": {
    "execution": {
     "iopub.execute_input": "2022-11-02T01:56:56.373622Z",
     "iopub.status.busy": "2022-11-02T01:56:56.373209Z",
     "iopub.status.idle": "2022-11-02T01:56:56.408232Z",
     "shell.execute_reply": "2022-11-02T01:56:56.407283Z"
    },
    "papermill": {
     "duration": 0.047256,
     "end_time": "2022-11-02T01:56:56.410637",
     "exception": false,
     "start_time": "2022-11-02T01:56:56.363381",
     "status": "completed"
    },
    "tags": []
   },
   "outputs": [
    {
     "data": {
      "text/html": [
       "<div>\n",
       "<style scoped>\n",
       "    .dataframe tbody tr th:only-of-type {\n",
       "        vertical-align: middle;\n",
       "    }\n",
       "\n",
       "    .dataframe tbody tr th {\n",
       "        vertical-align: top;\n",
       "    }\n",
       "\n",
       "    .dataframe thead th {\n",
       "        text-align: right;\n",
       "    }\n",
       "</style>\n",
       "<table border=\"1\" class=\"dataframe\">\n",
       "  <thead>\n",
       "    <tr style=\"text-align: right;\">\n",
       "      <th></th>\n",
       "      <th>GRE Score</th>\n",
       "      <th>TOEFL Score</th>\n",
       "      <th>University Rating</th>\n",
       "      <th>SOP</th>\n",
       "      <th>LOR</th>\n",
       "      <th>CGPA</th>\n",
       "      <th>Research</th>\n",
       "      <th>Chance of Admit</th>\n",
       "    </tr>\n",
       "  </thead>\n",
       "  <tbody>\n",
       "    <tr>\n",
       "      <th>count</th>\n",
       "      <td>400.000000</td>\n",
       "      <td>400.000000</td>\n",
       "      <td>400.000000</td>\n",
       "      <td>400.000000</td>\n",
       "      <td>400.000000</td>\n",
       "      <td>400.000000</td>\n",
       "      <td>400.000000</td>\n",
       "      <td>400.000000</td>\n",
       "    </tr>\n",
       "    <tr>\n",
       "      <th>mean</th>\n",
       "      <td>316.807500</td>\n",
       "      <td>107.410000</td>\n",
       "      <td>3.087500</td>\n",
       "      <td>3.400000</td>\n",
       "      <td>3.452500</td>\n",
       "      <td>8.598925</td>\n",
       "      <td>0.547500</td>\n",
       "      <td>0.724350</td>\n",
       "    </tr>\n",
       "    <tr>\n",
       "      <th>std</th>\n",
       "      <td>11.473646</td>\n",
       "      <td>6.069514</td>\n",
       "      <td>1.143728</td>\n",
       "      <td>1.006869</td>\n",
       "      <td>0.898478</td>\n",
       "      <td>0.596317</td>\n",
       "      <td>0.498362</td>\n",
       "      <td>0.142609</td>\n",
       "    </tr>\n",
       "    <tr>\n",
       "      <th>min</th>\n",
       "      <td>290.000000</td>\n",
       "      <td>92.000000</td>\n",
       "      <td>1.000000</td>\n",
       "      <td>1.000000</td>\n",
       "      <td>1.000000</td>\n",
       "      <td>6.800000</td>\n",
       "      <td>0.000000</td>\n",
       "      <td>0.340000</td>\n",
       "    </tr>\n",
       "    <tr>\n",
       "      <th>25%</th>\n",
       "      <td>308.000000</td>\n",
       "      <td>103.000000</td>\n",
       "      <td>2.000000</td>\n",
       "      <td>2.500000</td>\n",
       "      <td>3.000000</td>\n",
       "      <td>8.170000</td>\n",
       "      <td>0.000000</td>\n",
       "      <td>0.640000</td>\n",
       "    </tr>\n",
       "    <tr>\n",
       "      <th>50%</th>\n",
       "      <td>317.000000</td>\n",
       "      <td>107.000000</td>\n",
       "      <td>3.000000</td>\n",
       "      <td>3.500000</td>\n",
       "      <td>3.500000</td>\n",
       "      <td>8.610000</td>\n",
       "      <td>1.000000</td>\n",
       "      <td>0.730000</td>\n",
       "    </tr>\n",
       "    <tr>\n",
       "      <th>75%</th>\n",
       "      <td>325.000000</td>\n",
       "      <td>112.000000</td>\n",
       "      <td>4.000000</td>\n",
       "      <td>4.000000</td>\n",
       "      <td>4.000000</td>\n",
       "      <td>9.062500</td>\n",
       "      <td>1.000000</td>\n",
       "      <td>0.830000</td>\n",
       "    </tr>\n",
       "    <tr>\n",
       "      <th>max</th>\n",
       "      <td>340.000000</td>\n",
       "      <td>120.000000</td>\n",
       "      <td>5.000000</td>\n",
       "      <td>5.000000</td>\n",
       "      <td>5.000000</td>\n",
       "      <td>9.920000</td>\n",
       "      <td>1.000000</td>\n",
       "      <td>0.970000</td>\n",
       "    </tr>\n",
       "  </tbody>\n",
       "</table>\n",
       "</div>"
      ],
      "text/plain": [
       "        GRE Score  TOEFL Score  University Rating         SOP        LOR   \\\n",
       "count  400.000000   400.000000         400.000000  400.000000  400.000000   \n",
       "mean   316.807500   107.410000           3.087500    3.400000    3.452500   \n",
       "std     11.473646     6.069514           1.143728    1.006869    0.898478   \n",
       "min    290.000000    92.000000           1.000000    1.000000    1.000000   \n",
       "25%    308.000000   103.000000           2.000000    2.500000    3.000000   \n",
       "50%    317.000000   107.000000           3.000000    3.500000    3.500000   \n",
       "75%    325.000000   112.000000           4.000000    4.000000    4.000000   \n",
       "max    340.000000   120.000000           5.000000    5.000000    5.000000   \n",
       "\n",
       "             CGPA    Research  Chance of Admit   \n",
       "count  400.000000  400.000000        400.000000  \n",
       "mean     8.598925    0.547500          0.724350  \n",
       "std      0.596317    0.498362          0.142609  \n",
       "min      6.800000    0.000000          0.340000  \n",
       "25%      8.170000    0.000000          0.640000  \n",
       "50%      8.610000    1.000000          0.730000  \n",
       "75%      9.062500    1.000000          0.830000  \n",
       "max      9.920000    1.000000          0.970000  "
      ]
     },
     "execution_count": 6,
     "metadata": {},
     "output_type": "execute_result"
    }
   ],
   "source": [
    "#statistical summary\n",
    "admission_df.describe()"
   ]
  },
  {
   "cell_type": "code",
   "execution_count": 7,
   "id": "c47eff8b",
   "metadata": {
    "execution": {
     "iopub.execute_input": "2022-11-02T01:56:56.430365Z",
     "iopub.status.busy": "2022-11-02T01:56:56.429644Z",
     "iopub.status.idle": "2022-11-02T01:56:56.448442Z",
     "shell.execute_reply": "2022-11-02T01:56:56.447472Z"
    },
    "papermill": {
     "duration": 0.031117,
     "end_time": "2022-11-02T01:56:56.450812",
     "exception": false,
     "start_time": "2022-11-02T01:56:56.419695",
     "status": "completed"
    },
    "tags": []
   },
   "outputs": [
    {
     "data": {
      "text/html": [
       "<div>\n",
       "<style scoped>\n",
       "    .dataframe tbody tr th:only-of-type {\n",
       "        vertical-align: middle;\n",
       "    }\n",
       "\n",
       "    .dataframe tbody tr th {\n",
       "        vertical-align: top;\n",
       "    }\n",
       "\n",
       "    .dataframe thead th {\n",
       "        text-align: right;\n",
       "    }\n",
       "</style>\n",
       "<table border=\"1\" class=\"dataframe\">\n",
       "  <thead>\n",
       "    <tr style=\"text-align: right;\">\n",
       "      <th></th>\n",
       "      <th>GRE Score</th>\n",
       "      <th>TOEFL Score</th>\n",
       "      <th>SOP</th>\n",
       "      <th>LOR</th>\n",
       "      <th>CGPA</th>\n",
       "      <th>Research</th>\n",
       "      <th>Chance of Admit</th>\n",
       "    </tr>\n",
       "    <tr>\n",
       "      <th>University Rating</th>\n",
       "      <th></th>\n",
       "      <th></th>\n",
       "      <th></th>\n",
       "      <th></th>\n",
       "      <th></th>\n",
       "      <th></th>\n",
       "      <th></th>\n",
       "    </tr>\n",
       "  </thead>\n",
       "  <tbody>\n",
       "    <tr>\n",
       "      <th>1</th>\n",
       "      <td>303.153846</td>\n",
       "      <td>99.076923</td>\n",
       "      <td>1.884615</td>\n",
       "      <td>2.211538</td>\n",
       "      <td>7.745769</td>\n",
       "      <td>0.192308</td>\n",
       "      <td>0.548077</td>\n",
       "    </tr>\n",
       "    <tr>\n",
       "      <th>2</th>\n",
       "      <td>309.177570</td>\n",
       "      <td>103.523364</td>\n",
       "      <td>2.705607</td>\n",
       "      <td>2.925234</td>\n",
       "      <td>8.183738</td>\n",
       "      <td>0.299065</td>\n",
       "      <td>0.625981</td>\n",
       "    </tr>\n",
       "    <tr>\n",
       "      <th>3</th>\n",
       "      <td>315.954887</td>\n",
       "      <td>106.887218</td>\n",
       "      <td>3.364662</td>\n",
       "      <td>3.402256</td>\n",
       "      <td>8.552256</td>\n",
       "      <td>0.533835</td>\n",
       "      <td>0.711880</td>\n",
       "    </tr>\n",
       "    <tr>\n",
       "      <th>4</th>\n",
       "      <td>324.824324</td>\n",
       "      <td>111.824324</td>\n",
       "      <td>4.108108</td>\n",
       "      <td>4.006757</td>\n",
       "      <td>9.021622</td>\n",
       "      <td>0.797297</td>\n",
       "      <td>0.818108</td>\n",
       "    </tr>\n",
       "    <tr>\n",
       "      <th>5</th>\n",
       "      <td>328.333333</td>\n",
       "      <td>113.666667</td>\n",
       "      <td>4.500000</td>\n",
       "      <td>4.358333</td>\n",
       "      <td>9.291167</td>\n",
       "      <td>0.866667</td>\n",
       "      <td>0.888167</td>\n",
       "    </tr>\n",
       "  </tbody>\n",
       "</table>\n",
       "</div>"
      ],
      "text/plain": [
       "                    GRE Score  TOEFL Score       SOP      LOR       CGPA  \\\n",
       "University Rating                                                          \n",
       "1                  303.153846    99.076923  1.884615  2.211538  7.745769   \n",
       "2                  309.177570   103.523364  2.705607  2.925234  8.183738   \n",
       "3                  315.954887   106.887218  3.364662  3.402256  8.552256   \n",
       "4                  324.824324   111.824324  4.108108  4.006757  9.021622   \n",
       "5                  328.333333   113.666667  4.500000  4.358333  9.291167   \n",
       "\n",
       "                   Research  Chance of Admit   \n",
       "University Rating                              \n",
       "1                  0.192308          0.548077  \n",
       "2                  0.299065          0.625981  \n",
       "3                  0.533835          0.711880  \n",
       "4                  0.797297          0.818108  \n",
       "5                  0.866667          0.888167  "
      ]
     },
     "execution_count": 7,
     "metadata": {},
     "output_type": "execute_result"
    }
   ],
   "source": [
    "#group by university ranking\n",
    "university_df = admission_df.groupby('University Rating').mean()\n",
    "university_df "
   ]
  },
  {
   "cell_type": "markdown",
   "id": "1168d54d",
   "metadata": {
    "papermill": {
     "duration": 0.008452,
     "end_time": "2022-11-02T01:56:56.467996",
     "exception": false,
     "start_time": "2022-11-02T01:56:56.459544",
     "status": "completed"
    },
    "tags": []
   },
   "source": [
    "# Data Visualization"
   ]
  },
  {
   "cell_type": "code",
   "execution_count": 8,
   "id": "60def0f6",
   "metadata": {
    "execution": {
     "iopub.execute_input": "2022-11-02T01:56:56.487262Z",
     "iopub.status.busy": "2022-11-02T01:56:56.486827Z",
     "iopub.status.idle": "2022-11-02T01:56:58.361648Z",
     "shell.execute_reply": "2022-11-02T01:56:58.360492Z"
    },
    "papermill": {
     "duration": 1.887405,
     "end_time": "2022-11-02T01:56:58.364170",
     "exception": false,
     "start_time": "2022-11-02T01:56:56.476765",
     "status": "completed"
    },
    "tags": []
   },
   "outputs": [
    {
     "data": {
      "text/plain": [
       "array([[<AxesSubplot:title={'center':'GRE Score'}>,\n",
       "        <AxesSubplot:title={'center':'TOEFL Score'}>,\n",
       "        <AxesSubplot:title={'center':'University Rating'}>],\n",
       "       [<AxesSubplot:title={'center':'SOP'}>,\n",
       "        <AxesSubplot:title={'center':'LOR '}>,\n",
       "        <AxesSubplot:title={'center':'CGPA'}>],\n",
       "       [<AxesSubplot:title={'center':'Research'}>,\n",
       "        <AxesSubplot:title={'center':'Chance of Admit '}>,\n",
       "        <AxesSubplot:>]], dtype=object)"
      ]
     },
     "execution_count": 8,
     "metadata": {},
     "output_type": "execute_result"
    },
    {
     "data": {
      "image/png": "[encoded data removed]",
      "text/plain": [
       "<Figure size 1440x1440 with 9 Axes>"
      ]
     },
     "metadata": {
      "needs_background": "light"
     },
     "output_type": "display_data"
    }
   ],
   "source": [
    "admission_df.hist(bins=30,figsize=(20,20),color='g')"
   ]
  },
  {
   "cell_type": "code",
   "execution_count": 9,
   "id": "3d519b13",
   "metadata": {
    "execution": {
     "iopub.execute_input": "2022-11-02T01:56:58.385398Z",
     "iopub.status.busy": "2022-11-02T01:56:58.384982Z",
     "iopub.status.idle": "2022-11-02T01:56:59.198339Z",
     "shell.execute_reply": "2022-11-02T01:56:59.197131Z"
    },
    "papermill": {
     "duration": 0.827066,
     "end_time": "2022-11-02T01:56:59.200993",
     "exception": false,
     "start_time": "2022-11-02T01:56:58.373927",
     "status": "completed"
    },
    "tags": []
   },
   "outputs": [
    {
     "data": {
      "text/plain": [
       "<AxesSubplot:>"
      ]
     },
     "execution_count": 9,
     "metadata": {},
     "output_type": "execute_result"
    },
    {
     "data": {
      "image/png": "[encoded data removed]",
      "text/plain": [
       "<Figure size 1440x1440 with 2 Axes>"
      ]
     },
     "metadata": {
      "needs_background": "light"
     },
     "output_type": "display_data"
    }
   ],
   "source": [
    "#correlation matrix\n",
    "corr_matrix = admission_df.corr()\n",
    "plt.figure(figsize = (20,20))\n",
    "sns.heatmap(corr_matrix,annot = True,cmap=\"PiYG\")"
   ]
  },
  {
   "cell_type": "markdown",
   "id": "7ead175e",
   "metadata": {
    "papermill": {
     "duration": 0.010478,
     "end_time": "2022-11-02T01:56:59.222082",
     "exception": false,
     "start_time": "2022-11-02T01:56:59.211604",
     "status": "completed"
    },
    "tags": []
   },
   "source": [
    "# Create Training and testing Dataset"
   ]
  },
  {
   "cell_type": "code",
   "execution_count": 10,
   "id": "72e8d359",
   "metadata": {
    "execution": {
     "iopub.execute_input": "2022-11-02T01:56:59.244606Z",
     "iopub.status.busy": "2022-11-02T01:56:59.244183Z",
     "iopub.status.idle": "2022-11-02T01:56:59.251338Z",
     "shell.execute_reply": "2022-11-02T01:56:59.250225Z"
    },
    "papermill": {
     "duration": 0.021267,
     "end_time": "2022-11-02T01:56:59.253747",
     "exception": false,
     "start_time": "2022-11-02T01:56:59.232480",
     "status": "completed"
    },
    "tags": []
   },
   "outputs": [
    {
     "data": {
      "text/plain": [
       "Index(['GRE Score', 'TOEFL Score', 'University Rating', 'SOP', 'LOR ', 'CGPA',\n",
       "       'Research', 'Chance of Admit '],\n",
       "      dtype='object')"
      ]
     },
     "execution_count": 10,
     "metadata": {},
     "output_type": "execute_result"
    }
   ],
   "source": [
    "admission_df.columns"
   ]
  },
  {
   "cell_type": "code",
   "execution_count": 11,
   "id": "d7fef338",
   "metadata": {
    "execution": {
     "iopub.execute_input": "2022-11-02T01:56:59.276981Z",
     "iopub.status.busy": "2022-11-02T01:56:59.276319Z",
     "iopub.status.idle": "2022-11-02T01:56:59.281921Z",
     "shell.execute_reply": "2022-11-02T01:56:59.281166Z"
    },
    "papermill": {
     "duration": 0.019751,
     "end_time": "2022-11-02T01:56:59.283988",
     "exception": false,
     "start_time": "2022-11-02T01:56:59.264237",
     "status": "completed"
    },
    "tags": []
   },
   "outputs": [],
   "source": [
    "#features\n",
    "X = admission_df.drop('Chance of Admit ', axis=1)\n"
   ]
  },
  {
   "cell_type": "code",
   "execution_count": 12,
   "id": "08e1a0ff",
   "metadata": {
    "execution": {
     "iopub.execute_input": "2022-11-02T01:56:59.307229Z",
     "iopub.status.busy": "2022-11-02T01:56:59.306593Z",
     "iopub.status.idle": "2022-11-02T01:56:59.320048Z",
     "shell.execute_reply": "2022-11-02T01:56:59.319070Z"
    },
    "papermill": {
     "duration": 0.027905,
     "end_time": "2022-11-02T01:56:59.322476",
     "exception": false,
     "start_time": "2022-11-02T01:56:59.294571",
     "status": "completed"
    },
    "tags": []
   },
   "outputs": [
    {
     "data": {
      "text/html": [
       "<div>\n",
       "<style scoped>\n",
       "    .dataframe tbody tr th:only-of-type {\n",
       "        vertical-align: middle;\n",
       "    }\n",
       "\n",
       "    .dataframe tbody tr th {\n",
       "        vertical-align: top;\n",
       "    }\n",
       "\n",
       "    .dataframe thead th {\n",
       "        text-align: right;\n",
       "    }\n",
       "</style>\n",
       "<table border=\"1\" class=\"dataframe\">\n",
       "  <thead>\n",
       "    <tr style=\"text-align: right;\">\n",
       "      <th></th>\n",
       "      <th>GRE Score</th>\n",
       "      <th>TOEFL Score</th>\n",
       "      <th>University Rating</th>\n",
       "      <th>SOP</th>\n",
       "      <th>LOR</th>\n",
       "      <th>CGPA</th>\n",
       "      <th>Research</th>\n",
       "    </tr>\n",
       "  </thead>\n",
       "  <tbody>\n",
       "    <tr>\n",
       "      <th>0</th>\n",
       "      <td>337</td>\n",
       "      <td>118</td>\n",
       "      <td>4</td>\n",
       "      <td>4.5</td>\n",
       "      <td>4.5</td>\n",
       "      <td>9.65</td>\n",
       "      <td>1</td>\n",
       "    </tr>\n",
       "    <tr>\n",
       "      <th>1</th>\n",
       "      <td>324</td>\n",
       "      <td>107</td>\n",
       "      <td>4</td>\n",
       "      <td>4.0</td>\n",
       "      <td>4.5</td>\n",
       "      <td>8.87</td>\n",
       "      <td>1</td>\n",
       "    </tr>\n",
       "    <tr>\n",
       "      <th>2</th>\n",
       "      <td>316</td>\n",
       "      <td>104</td>\n",
       "      <td>3</td>\n",
       "      <td>3.0</td>\n",
       "      <td>3.5</td>\n",
       "      <td>8.00</td>\n",
       "      <td>1</td>\n",
       "    </tr>\n",
       "    <tr>\n",
       "      <th>3</th>\n",
       "      <td>322</td>\n",
       "      <td>110</td>\n",
       "      <td>3</td>\n",
       "      <td>3.5</td>\n",
       "      <td>2.5</td>\n",
       "      <td>8.67</td>\n",
       "      <td>1</td>\n",
       "    </tr>\n",
       "    <tr>\n",
       "      <th>4</th>\n",
       "      <td>314</td>\n",
       "      <td>103</td>\n",
       "      <td>2</td>\n",
       "      <td>2.0</td>\n",
       "      <td>3.0</td>\n",
       "      <td>8.21</td>\n",
       "      <td>0</td>\n",
       "    </tr>\n",
       "  </tbody>\n",
       "</table>\n",
       "</div>"
      ],
      "text/plain": [
       "   GRE Score  TOEFL Score  University Rating  SOP  LOR   CGPA  Research\n",
       "0        337          118                  4  4.5   4.5  9.65         1\n",
       "1        324          107                  4  4.0   4.5  8.87         1\n",
       "2        316          104                  3  3.0   3.5  8.00         1\n",
       "3        322          110                  3  3.5   2.5  8.67         1\n",
       "4        314          103                  2  2.0   3.0  8.21         0"
      ]
     },
     "execution_count": 12,
     "metadata": {},
     "output_type": "execute_result"
    }
   ],
   "source": [
    "X.head()"
   ]
  },
  {
   "cell_type": "code",
   "execution_count": 13,
   "id": "600414dc",
   "metadata": {
    "execution": {
     "iopub.execute_input": "2022-11-02T01:56:59.347107Z",
     "iopub.status.busy": "2022-11-02T01:56:59.346458Z",
     "iopub.status.idle": "2022-11-02T01:56:59.351907Z",
     "shell.execute_reply": "2022-11-02T01:56:59.350700Z"
    },
    "papermill": {
     "duration": 0.020421,
     "end_time": "2022-11-02T01:56:59.353950",
     "exception": false,
     "start_time": "2022-11-02T01:56:59.333529",
     "status": "completed"
    },
    "tags": []
   },
   "outputs": [],
   "source": [
    "#target\n",
    "y =admission_df['Chance of Admit ']"
   ]
  },
  {
   "cell_type": "code",
   "execution_count": 14,
   "id": "9e3402f1",
   "metadata": {
    "execution": {
     "iopub.execute_input": "2022-11-02T01:56:59.377680Z",
     "iopub.status.busy": "2022-11-02T01:56:59.376896Z",
     "iopub.status.idle": "2022-11-02T01:56:59.384821Z",
     "shell.execute_reply": "2022-11-02T01:56:59.383711Z"
    },
    "papermill": {
     "duration": 0.022173,
     "end_time": "2022-11-02T01:56:59.387028",
     "exception": false,
     "start_time": "2022-11-02T01:56:59.364855",
     "status": "completed"
    },
    "tags": []
   },
   "outputs": [
    {
     "data": {
      "text/plain": [
       "0    0.92\n",
       "1    0.76\n",
       "2    0.72\n",
       "3    0.80\n",
       "4    0.65\n",
       "Name: Chance of Admit , dtype: float64"
      ]
     },
     "execution_count": 14,
     "metadata": {},
     "output_type": "execute_result"
    }
   ],
   "source": [
    "y.head()"
   ]
  },
  {
   "cell_type": "code",
   "execution_count": 15,
   "id": "07a405aa",
   "metadata": {
    "execution": {
     "iopub.execute_input": "2022-11-02T01:56:59.412263Z",
     "iopub.status.busy": "2022-11-02T01:56:59.411050Z",
     "iopub.status.idle": "2022-11-02T01:56:59.418096Z",
     "shell.execute_reply": "2022-11-02T01:56:59.417035Z"
    },
    "papermill": {
     "duration": 0.021827,
     "end_time": "2022-11-02T01:56:59.420279",
     "exception": false,
     "start_time": "2022-11-02T01:56:59.398452",
     "status": "completed"
    },
    "tags": []
   },
   "outputs": [
    {
     "data": {
      "text/plain": [
       "(400, 7)"
      ]
     },
     "execution_count": 15,
     "metadata": {},
     "output_type": "execute_result"
    }
   ],
   "source": [
    "X.shape\n"
   ]
  },
  {
   "cell_type": "code",
   "execution_count": 16,
   "id": "e8409860",
   "metadata": {
    "execution": {
     "iopub.execute_input": "2022-11-02T01:56:59.444613Z",
     "iopub.status.busy": "2022-11-02T01:56:59.443841Z",
     "iopub.status.idle": "2022-11-02T01:56:59.450668Z",
     "shell.execute_reply": "2022-11-02T01:56:59.449479Z"
    },
    "papermill": {
     "duration": 0.021146,
     "end_time": "2022-11-02T01:56:59.452718",
     "exception": false,
     "start_time": "2022-11-02T01:56:59.431572",
     "status": "completed"
    },
    "tags": []
   },
   "outputs": [
    {
     "data": {
      "text/plain": [
       "(400,)"
      ]
     },
     "execution_count": 16,
     "metadata": {},
     "output_type": "execute_result"
    }
   ],
   "source": [
    "y.shape"
   ]
  },
  {
   "cell_type": "code",
   "execution_count": 17,
   "id": "072cec73",
   "metadata": {
    "execution": {
     "iopub.execute_input": "2022-11-02T01:56:59.477556Z",
     "iopub.status.busy": "2022-11-02T01:56:59.476910Z",
     "iopub.status.idle": "2022-11-02T01:56:59.481319Z",
     "shell.execute_reply": "2022-11-02T01:56:59.480568Z"
    },
    "papermill": {
     "duration": 0.019671,
     "end_time": "2022-11-02T01:56:59.483728",
     "exception": false,
     "start_time": "2022-11-02T01:56:59.464057",
     "status": "completed"
    },
    "tags": []
   },
   "outputs": [],
   "source": [
    "X = np.array(X)\n",
    "y = np.array(y)"
   ]
  },
  {
   "cell_type": "code",
   "execution_count": 18,
   "id": "0c985dbd",
   "metadata": {
    "execution": {
     "iopub.execute_input": "2022-11-02T01:56:59.508625Z",
     "iopub.status.busy": "2022-11-02T01:56:59.507423Z",
     "iopub.status.idle": "2022-11-02T01:56:59.514899Z",
     "shell.execute_reply": "2022-11-02T01:56:59.513979Z"
    },
    "papermill": {
     "duration": 0.022104,
     "end_time": "2022-11-02T01:56:59.517067",
     "exception": false,
     "start_time": "2022-11-02T01:56:59.494963",
     "status": "completed"
    },
    "tags": []
   },
   "outputs": [
    {
     "data": {
      "text/plain": [
       "(400, 1)"
      ]
     },
     "execution_count": 18,
     "metadata": {},
     "output_type": "execute_result"
    }
   ],
   "source": [
    "y=y.reshape(-1,1)\n",
    "y.shape"
   ]
  },
  {
   "cell_type": "markdown",
   "id": "c2826777",
   "metadata": {
    "papermill": {
     "duration": 0.011057,
     "end_time": "2022-11-02T01:56:59.539328",
     "exception": false,
     "start_time": "2022-11-02T01:56:59.528271",
     "status": "completed"
    },
    "tags": []
   },
   "source": [
    "# Scaling the data"
   ]
  },
  {
   "cell_type": "code",
   "execution_count": 19,
   "id": "5d0b39d5",
   "metadata": {
    "execution": {
     "iopub.execute_input": "2022-11-02T01:56:59.564214Z",
     "iopub.status.busy": "2022-11-02T01:56:59.563135Z",
     "iopub.status.idle": "2022-11-02T01:56:59.708765Z",
     "shell.execute_reply": "2022-11-02T01:56:59.707576Z"
    },
    "papermill": {
     "duration": 0.160996,
     "end_time": "2022-11-02T01:56:59.711466",
     "exception": false,
     "start_time": "2022-11-02T01:56:59.550470",
     "status": "completed"
    },
    "tags": []
   },
   "outputs": [],
   "source": [
    "from sklearn.preprocessing import StandardScaler,MinMaxScaler\n",
    "scaler_x = StandardScaler()\n",
    "X = scaler_x.fit_transform(X)"
   ]
  },
  {
   "cell_type": "code",
   "execution_count": 20,
   "id": "83a5c016",
   "metadata": {
    "execution": {
     "iopub.execute_input": "2022-11-02T01:56:59.736188Z",
     "iopub.status.busy": "2022-11-02T01:56:59.735156Z",
     "iopub.status.idle": "2022-11-02T01:56:59.742822Z",
     "shell.execute_reply": "2022-11-02T01:56:59.741935Z"
    },
    "papermill": {
     "duration": 0.022241,
     "end_time": "2022-11-02T01:56:59.744981",
     "exception": false,
     "start_time": "2022-11-02T01:56:59.722740",
     "status": "completed"
    },
    "tags": []
   },
   "outputs": [
    {
     "data": {
      "text/plain": [
       "array([[ 1.76210664,  1.74697064,  0.79882862, ...,  1.16732114,\n",
       "         1.76481828,  0.90911166],\n",
       "       [ 0.62765641, -0.06763531,  0.79882862, ...,  1.16732114,\n",
       "         0.45515126,  0.90911166],\n",
       "       [-0.07046681, -0.56252785, -0.07660001, ...,  0.05293342,\n",
       "        -1.00563118,  0.90911166],\n",
       "       ...,\n",
       "       [ 1.15124883,  1.41704229,  0.79882862, ...,  1.16732114,\n",
       "         1.42900622,  0.90911166],\n",
       "       [-0.41952842, -0.72749202, -0.07660001, ...,  0.61012728,\n",
       "         0.30403584, -1.09997489],\n",
       "       [ 1.41304503,  1.58200646,  0.79882862, ...,  0.61012728,\n",
       "         1.78160888,  0.90911166]])"
      ]
     },
     "execution_count": 20,
     "metadata": {},
     "output_type": "execute_result"
    }
   ],
   "source": [
    "X"
   ]
  },
  {
   "cell_type": "code",
   "execution_count": 21,
   "id": "3a9e5d40",
   "metadata": {
    "execution": {
     "iopub.execute_input": "2022-11-02T01:56:59.769496Z",
     "iopub.status.busy": "2022-11-02T01:56:59.769102Z",
     "iopub.status.idle": "2022-11-02T01:56:59.774636Z",
     "shell.execute_reply": "2022-11-02T01:56:59.773429Z"
    },
    "papermill": {
     "duration": 0.020686,
     "end_time": "2022-11-02T01:56:59.776929",
     "exception": false,
     "start_time": "2022-11-02T01:56:59.756243",
     "status": "completed"
    },
    "tags": []
   },
   "outputs": [],
   "source": [
    "scaler_y = StandardScaler()\n",
    "y = scaler_y.fit_transform(y)"
   ]
  },
  {
   "cell_type": "markdown",
   "id": "e9b1dbae",
   "metadata": {
    "papermill": {
     "duration": 0.010908,
     "end_time": "2022-11-02T01:56:59.798940",
     "exception": false,
     "start_time": "2022-11-02T01:56:59.788032",
     "status": "completed"
    },
    "tags": []
   },
   "source": [
    "# Spliting the  Data in to test and train set"
   ]
  },
  {
   "cell_type": "code",
   "execution_count": 22,
   "id": "f073322f",
   "metadata": {
    "execution": {
     "iopub.execute_input": "2022-11-02T01:56:59.823466Z",
     "iopub.status.busy": "2022-11-02T01:56:59.822715Z",
     "iopub.status.idle": "2022-11-02T01:57:00.002062Z",
     "shell.execute_reply": "2022-11-02T01:57:00.000925Z"
    },
    "papermill": {
     "duration": 0.194876,
     "end_time": "2022-11-02T01:57:00.004937",
     "exception": false,
     "start_time": "2022-11-02T01:56:59.810061",
     "status": "completed"
    },
    "tags": []
   },
   "outputs": [],
   "source": [
    "from sklearn.model_selection import train_test_split\n",
    "X_train, X_test, y_train, y_test = train_test_split(X, y, test_size=0.33, random_state=42)"
   ]
  },
  {
   "cell_type": "markdown",
   "id": "b22c240a",
   "metadata": {
    "papermill": {
     "duration": 0.011161,
     "end_time": "2022-11-02T01:57:00.027571",
     "exception": false,
     "start_time": "2022-11-02T01:57:00.016410",
     "status": "completed"
    },
    "tags": []
   },
   "source": [
    "# TRAIN AND EVALUATE LINEAR REGRESSION MODEL"
   ]
  },
  {
   "cell_type": "code",
   "execution_count": 23,
   "id": "b3b46248",
   "metadata": {
    "execution": {
     "iopub.execute_input": "2022-11-02T01:57:00.052627Z",
     "iopub.status.busy": "2022-11-02T01:57:00.051845Z",
     "iopub.status.idle": "2022-11-02T01:57:00.121439Z",
     "shell.execute_reply": "2022-11-02T01:57:00.120286Z"
    },
    "papermill": {
     "duration": 0.085382,
     "end_time": "2022-11-02T01:57:00.124266",
     "exception": false,
     "start_time": "2022-11-02T01:57:00.038884",
     "status": "completed"
    },
    "tags": []
   },
   "outputs": [],
   "source": [
    "from sklearn.linear_model import LinearRegression\n",
    "from sklearn.metrics import mean_squared_error ,accuracy_score"
   ]
  },
  {
   "cell_type": "code",
   "execution_count": 24,
   "id": "ac122ccd",
   "metadata": {
    "execution": {
     "iopub.execute_input": "2022-11-02T01:57:00.150041Z",
     "iopub.status.busy": "2022-11-02T01:57:00.149018Z",
     "iopub.status.idle": "2022-11-02T01:57:00.175002Z",
     "shell.execute_reply": "2022-11-02T01:57:00.173910Z"
    },
    "papermill": {
     "duration": 0.041612,
     "end_time": "2022-11-02T01:57:00.177352",
     "exception": false,
     "start_time": "2022-11-02T01:57:00.135740",
     "status": "completed"
    },
    "tags": []
   },
   "outputs": [
    {
     "data": {
      "text/plain": [
       "LinearRegression()"
      ]
     },
     "execution_count": 24,
     "metadata": {},
     "output_type": "execute_result"
    }
   ],
   "source": [
    "LinearRegression_Model = LinearRegression()\n",
    "LinearRegression_Model.fit(X_train,y_train)"
   ]
  },
  {
   "cell_type": "code",
   "execution_count": 25,
   "id": "05b0e4d9",
   "metadata": {
    "execution": {
     "iopub.execute_input": "2022-11-02T01:57:00.202741Z",
     "iopub.status.busy": "2022-11-02T01:57:00.201953Z",
     "iopub.status.idle": "2022-11-02T01:57:00.208805Z",
     "shell.execute_reply": "2022-11-02T01:57:00.207931Z"
    },
    "papermill": {
     "duration": 0.022265,
     "end_time": "2022-11-02T01:57:00.211133",
     "exception": false,
     "start_time": "2022-11-02T01:57:00.188868",
     "status": "completed"
    },
    "tags": []
   },
   "outputs": [],
   "source": [
    "accuracy_LinearRegression = LinearRegression_Model.score(X_test,y_test)"
   ]
  },
  {
   "cell_type": "code",
   "execution_count": 26,
   "id": "682e495a",
   "metadata": {
    "execution": {
     "iopub.execute_input": "2022-11-02T01:57:00.236197Z",
     "iopub.status.busy": "2022-11-02T01:57:00.235475Z",
     "iopub.status.idle": "2022-11-02T01:57:00.241698Z",
     "shell.execute_reply": "2022-11-02T01:57:00.240738Z"
    },
    "papermill": {
     "duration": 0.021135,
     "end_time": "2022-11-02T01:57:00.243747",
     "exception": false,
     "start_time": "2022-11-02T01:57:00.222612",
     "status": "completed"
    },
    "tags": []
   },
   "outputs": [
    {
     "data": {
      "text/plain": [
       "0.8044753910534399"
      ]
     },
     "execution_count": 26,
     "metadata": {},
     "output_type": "execute_result"
    }
   ],
   "source": [
    "accuracy_LinearRegression"
   ]
  },
  {
   "cell_type": "markdown",
   "id": "d6ff09d8",
   "metadata": {
    "papermill": {
     "duration": 0.011111,
     "end_time": "2022-11-02T01:57:00.266260",
     "exception": false,
     "start_time": "2022-11-02T01:57:00.255149",
     "status": "completed"
    },
    "tags": []
   },
   "source": [
    "# 80% accuracy using linearregression model"
   ]
  }
 ],
 "metadata": {
  "kernelspec": {
   "display_name": "Python 3",
   "language": "python",
   "name": "python3"
  },
  "language_info": {
   "codemirror_mode": {
    "name": "ipython",
    "version": 3
   },
   "file_extension": ".py",
   "mimetype": "text/x-python",
   "name": "python",
   "nbconvert_exporter": "python",
   "pygments_lexer": "ipython3",
   "version": "3.7.12"
  },
  "papermill": {
   "default_parameters": {},
   "duration": 14.148565,
   "end_time": "2022-11-02T01:57:00.999156",
   "environment_variables": {},
   "exception": null,
   "input_path": "__notebook__.ipynb",
   "output_path": "__notebook__.ipynb",
   "parameters": {},
   "start_time": "2022-11-02T01:56:46.850591",
   "version": "2.3.4"
  }
 },
 "nbformat": 4,
 "nbformat_minor": 5
}
